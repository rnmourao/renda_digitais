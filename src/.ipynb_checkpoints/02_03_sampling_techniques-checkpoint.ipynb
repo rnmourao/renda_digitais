{
 "cells": [
  {
   "cell_type": "code",
   "execution_count": 1,
   "metadata": {
    "collapsed": true
   },
   "outputs": [],
   "source": [
    "# encoding: utf-8\n",
    "\n",
    "############################################################\n",
    "# Prepare training set using over/undersampling techniques #\n",
    "############################################################"
   ]
  },
  {
   "cell_type": "code",
   "execution_count": 2,
   "metadata": {
    "collapsed": false,
    "deletable": true,
    "editable": true
   },
   "outputs": [],
   "source": [
    "import numpy as np\n",
    "import pandas as pd\n",
    "from scipy import stats\n",
    "\n",
    "from pyspark.context import SparkContext\n",
    "from pyspark.sql.session import SparkSession\n",
    "from pyspark.sql import types as T\n",
    "from pyspark.sql import functions as F\n",
    "from pyspark.conf import SparkConf\n",
    "\n",
    "import multiprocessing"
   ]
  },
  {
   "cell_type": "code",
   "execution_count": 3,
   "metadata": {
    "collapsed": true,
    "deletable": true,
    "editable": true
   },
   "outputs": [],
   "source": [
    "# create SparkContext and SparkSession to process files\n",
    "cores = multiprocessing.cpu_count() - 2\n",
    "\n",
    "conf = SparkConf()\n",
    "conf.setMaster('local[' + str(cores) + ']') \\\n",
    "    .setAppName('example') \\\n",
    "    .set('spark.serializer', 'org.apache.spark.serializer.KryoSerializer') \\\n",
    "    .set('spark.driver.memory', '15g')\n",
    "\n",
    "sc = SparkContext(conf=conf)\n",
    "spark = SparkSession(sc)"
   ]
  },
  {
   "cell_type": "code",
   "execution_count": 4,
   "metadata": {
    "collapsed": true,
    "deletable": true,
    "editable": true
   },
   "outputs": [],
   "source": [
    "# random seed\n",
    "my_seed = 1980"
   ]
  },
  {
   "cell_type": "code",
   "execution_count": 5,
   "metadata": {
    "collapsed": true,
    "deletable": true,
    "editable": true
   },
   "outputs": [],
   "source": [
    "# csv files' path\n",
    "my_path = '../data/'"
   ]
  },
  {
   "cell_type": "code",
   "execution_count": 6,
   "metadata": {
    "collapsed": true,
    "deletable": true,
    "editable": true
   },
   "outputs": [],
   "source": [
    "# app customers\n",
    "app = spark.read.format('csv') \\\n",
    "                .option('sep', ',') \\\n",
    "                .option('header', 'True') \\\n",
    "                .option('inferSchema', 'True') \\\n",
    "                .load(my_path + 'c5_e1_1_app.csv')"
   ]
  },
  {
   "cell_type": "code",
   "execution_count": 7,
   "metadata": {
    "collapsed": true,
    "deletable": true,
    "editable": true
   },
   "outputs": [],
   "source": [
    "cols = ['label', 'v2', 'v3', 'v10', 'v12', 'v13', 'v16', 'v17', 'v18', 'v21', 'v29', 'v32', \n",
    "        'v33', 'v34', 'v37', 'v38', 'v50', 'v51', 'v57', 'v58', 'v61']\n",
    "\n"
   ]
  },
  {
   "cell_type": "code",
   "execution_count": 8,
   "metadata": {
    "collapsed": true,
    "deletable": true,
    "editable": true
   },
   "outputs": [],
   "source": [
    "app = app.select(cols)"
   ]
  },
  {
   "cell_type": "code",
   "execution_count": 9,
   "metadata": {
    "collapsed": false,
    "deletable": true,
    "editable": true
   },
   "outputs": [
    {
     "data": {
      "text/plain": [
       "DataFrame[label: int, v2: int, v3: int, v10: int, v12: int, v13: int, v16: int, v17: int, v18: int, v21: int, v29: double, v32: double, v33: double, v34: double, v37: double, v38: double, v50: double, v51: double, v57: double, v58: double, v61: int]"
      ]
     },
     "execution_count": 9,
     "metadata": {},
     "output_type": "execute_result"
    }
   ],
   "source": [
    "# separate test set\n",
    "train, test = app.randomSplit([.7, .3], my_seed)\n",
    "train.cache()\n",
    "app.unpersist()"
   ]
  },
  {
   "cell_type": "code",
   "execution_count": 10,
   "metadata": {
    "collapsed": true,
    "deletable": true,
    "editable": true
   },
   "outputs": [],
   "source": [
    "train.repartition(1).write.csv(my_path + 'c5_e3_1_train', header=True)"
   ]
  },
  {
   "cell_type": "code",
   "execution_count": 11,
   "metadata": {
    "collapsed": true,
    "deletable": true,
    "editable": true
   },
   "outputs": [],
   "source": [
    "test.repartition(1).write.csv(my_path + 'c5_e3_1_test', header=True)"
   ]
  },
  {
   "cell_type": "code",
   "execution_count": 12,
   "metadata": {
    "collapsed": true,
    "deletable": true,
    "editable": true
   },
   "outputs": [],
   "source": [
    "total_count = train.count()\n",
    "min_count = train.where('label = 1').count()\n",
    "maj_count = total_count - min_count"
   ]
  },
  {
   "cell_type": "code",
   "execution_count": 13,
   "metadata": {
    "collapsed": true,
    "deletable": true,
    "editable": true
   },
   "outputs": [],
   "source": [
    "train_under = train.where('label = 1') \\\n",
    "                   .union(train.where('label = 0') \\\n",
    "                              .sample(False, min_count/np.float(total_count), my_seed))"
   ]
  },
  {
   "cell_type": "code",
   "execution_count": 14,
   "metadata": {
    "collapsed": false,
    "deletable": true,
    "editable": true
   },
   "outputs": [],
   "source": [
    "train_under.repartition(1).write.csv(my_path + 'c5_e3_1_train_under', header=True)"
   ]
  },
  {
   "cell_type": "code",
   "execution_count": 15,
   "metadata": {
    "collapsed": true,
    "deletable": true,
    "editable": true
   },
   "outputs": [],
   "source": [
    "train_over = train.where('label = 0') \\\n",
    "                  .union(train.where('label = 1') \\\n",
    "                             .sample(True, maj_count/np.float(min_count), my_seed))"
   ]
  },
  {
   "cell_type": "code",
   "execution_count": 16,
   "metadata": {
    "collapsed": true,
    "deletable": true,
    "editable": true
   },
   "outputs": [],
   "source": [
    "train_over.repartition(1).write.csv(my_path + 'c5_e3_1_train_over', header=True)"
   ]
  },
  {
   "cell_type": "code",
   "execution_count": 17,
   "metadata": {
    "collapsed": true
   },
   "outputs": [],
   "source": [
    "sc.stop()"
   ]
  }
 ],
 "metadata": {
  "kernelspec": {
   "display_name": "Python 2",
   "language": "python",
   "name": "python2"
  },
  "language_info": {
   "codemirror_mode": {
    "name": "ipython",
    "version": 2
   },
   "file_extension": ".py",
   "mimetype": "text/x-python",
   "name": "python",
   "nbconvert_exporter": "python",
   "pygments_lexer": "ipython2",
   "version": "2.7.12"
  }
 },
 "nbformat": 4,
 "nbformat_minor": 2
}
