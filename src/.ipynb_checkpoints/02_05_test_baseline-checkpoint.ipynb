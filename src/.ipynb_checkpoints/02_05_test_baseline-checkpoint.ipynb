{
 "cells": [
  {
   "cell_type": "code",
   "execution_count": 1,
   "metadata": {
    "collapsed": true,
    "deletable": true,
    "editable": true
   },
   "outputs": [],
   "source": [
    "import pandas as pd\n",
    "import numpy as np\n",
    "\n",
    "from sklearn.model_selection import GridSearchCV\n",
    "from sklearn.metrics import classification_report, confusion_matrix, roc_curve, auc\n",
    "\n",
    "import matplotlib.pyplot as plt"
   ]
  },
  {
   "cell_type": "code",
   "execution_count": 2,
   "metadata": {
    "collapsed": true,
    "deletable": true,
    "editable": true
   },
   "outputs": [],
   "source": [
    "# seed for reproducibility\n",
    "my_seed = 1980"
   ]
  },
  {
   "cell_type": "code",
   "execution_count": 3,
   "metadata": {
    "collapsed": false,
    "deletable": true,
    "editable": true
   },
   "outputs": [],
   "source": [
    "# read data\n",
    "my_path = '../'\n",
    "\n",
    "train = pd.read_csv(my_path + 'data/c5_e3_1_train_under.csv')\n",
    "test = pd.read_csv(my_path + 'data/c5_e3_1_test.csv')"
   ]
  },
  {
   "cell_type": "code",
   "execution_count": 4,
   "metadata": {
    "collapsed": false,
    "deletable": true,
    "editable": true
   },
   "outputs": [
    {
     "name": "stdout",
     "output_type": "stream",
     "text": [
      "             precision    recall  f1-score   support\n",
      "\n",
      "          0       0.92      0.92      0.92   2556548\n",
      "          1       0.30      0.29      0.30    295913\n",
      "\n",
      "avg / total       0.85      0.86      0.86   2852461\n",
      "\n",
      "Confusion Matrix:\n",
      "\n",
      " [[2355689  200859]\n",
      " [ 209868   86045]]\n"
     ]
    }
   ],
   "source": [
    "# Testing External Information - Direct Approach\n",
    "\n",
    "print(classification_report(test['label'], test['base_guess']))\n",
    "print('Confusion Matrix:\\n\\n ' + str(confusion_matrix(test['label'], test['base_guess'])))"
   ]
  },
  {
   "cell_type": "code",
   "execution_count": 5,
   "metadata": {
    "collapsed": true,
    "deletable": true,
    "editable": true
   },
   "outputs": [],
   "source": [
    "fpr, tpr, thresholds = roc_curve(test['label'], test['base_guess'])"
   ]
  },
  {
   "cell_type": "code",
   "execution_count": 6,
   "metadata": {
    "collapsed": false,
    "deletable": true,
    "editable": true
   },
   "outputs": [
    {
     "data": {
      "text/plain": [
       "0.6061057719288757"
      ]
     },
     "execution_count": 6,
     "metadata": {},
     "output_type": "execute_result"
    }
   ],
   "source": [
    "my_auc = auc(fpr, tpr)\n",
    "my_auc"
   ]
  },
  {
   "cell_type": "code",
   "execution_count": 7,
   "metadata": {
    "collapsed": false,
    "deletable": true,
    "editable": true
   },
   "outputs": [
    {
     "data": {
      "image/png": "[encoded data removed]",
      "text/plain": [
       "<matplotlib.figure.Figure at 0x7fcab9b34910>"
      ]
     },
     "metadata": {},
     "output_type": "display_data"
    }
   ],
   "source": [
    "plt.figure()\n",
    "lw = 2\n",
    "plt.plot(fpr, tpr, color='blue',\n",
    "         lw=lw, label='AUC=%0.4f' % my_auc, linestyle='--')\n",
    "plt.xlim([0.0, 1.0])\n",
    "plt.ylim([0.0, 1.05])\n",
    "plt.xlabel('False Positive Rate (FPR)')\n",
    "plt.ylabel('True Positive Rate (TPR)')\n",
    "plt.title('ROC Curve')\n",
    "plt.legend(loc=\"right\",  frameon=False)\n",
    "plt.show()"
   ]
  },
  {
   "cell_type": "code",
   "execution_count": 8,
   "metadata": {
    "collapsed": false,
    "deletable": true,
    "editable": true,
    "scrolled": false
   },
   "outputs": [
    {
     "name": "stderr",
     "output_type": "stream",
     "text": [
      "/usr/local/lib/python2.7/dist-packages/pandas/core/indexing.py:357: SettingWithCopyWarning: \n",
      "A value is trying to be set on a copy of a slice from a DataFrame.\n",
      "Try using .loc[row_indexer,col_indexer] = value instead\n",
      "\n",
      "See the caveats in the documentation: http://pandas.pydata.org/pandas-docs/stable/indexing.html#indexing-view-versus-copy\n",
      "  self.obj[key] = _infer_fill_value(value)\n",
      "/usr/local/lib/python2.7/dist-packages/pandas/core/indexing.py:537: SettingWithCopyWarning: \n",
      "A value is trying to be set on a copy of a slice from a DataFrame.\n",
      "Try using .loc[row_indexer,col_indexer] = value instead\n",
      "\n",
      "See the caveats in the documentation: http://pandas.pydata.org/pandas-docs/stable/indexing.html#indexing-view-versus-copy\n",
      "  self.obj[item] = s\n"
     ]
    },
    {
     "name": "stdout",
     "output_type": "stream",
     "text": [
      "Best Threshold: 0.3219018\n",
      "F1-Measure:0.5566224395631804\n"
     ]
    }
   ],
   "source": [
    "# Testing External Information - Searching for a Threshold\n",
    "\n",
    "step = 0.0536503\n",
    "minimum = np.min(train['v50'])\n",
    "maximum = np.max(train['v50']) + step\n",
    "\n",
    "cv_list = [0, 1, 2, 3, 4]\n",
    "cv_index = np.random.choice(5, len(train), replace=True)\n",
    "cv_index.sort()\n",
    "\n",
    "ext = train[['v50', 'label']]\n",
    "ext.loc[:, 'cv'] = cv_index\n",
    "\n",
    "best_f1_mean = 0\n",
    "best_threshold = 0\n",
    "\n",
    "for threshold in np.arange(minimum, maximum, step):\n",
    "    f1_list = []\n",
    "    \n",
    "    for cv in cv_list:\n",
    "        cv_test = ext.loc[ext['cv'] == cv]\n",
    "        cv_test.is_copy = False\n",
    "        \n",
    "        cv_test['guess'] = 0\n",
    "        cv_test.loc[cv_test['v50'] >= threshold, 'guess'] = 1\n",
    "\n",
    "        cm = confusion_matrix(cv_test['label'], cv_test['guess'])\n",
    "        try:\n",
    "            f1 = 2 * cm[1][1] / float(2 * cm[1][1] + cm[0][1] + cm[1][0])\n",
    "        except IndexError:\n",
    "            f1 = 0\n",
    "        f1_list.append(f1)\n",
    "        \n",
    "    f1_mean = np.mean(f1_list)\n",
    "    \n",
    "    if f1_mean > best_f1_mean:\n",
    "        best_threshold = threshold\n",
    "        best_f1_mean = f1_mean\n",
    "\n",
    "print(\"Best Threshold: \" + str(best_threshold))\n",
    "print(\"F1-Measure:\" + str(best_f1_mean))"
   ]
  },
  {
   "cell_type": "code",
   "execution_count": 9,
   "metadata": {
    "collapsed": false,
    "deletable": true,
    "editable": true
   },
   "outputs": [
    {
     "name": "stdout",
     "output_type": "stream",
     "text": [
      "             precision    recall  f1-score   support\n",
      "\n",
      "          0       0.99      0.32      0.49   2556548\n",
      "          1       0.14      0.96      0.25    295913\n",
      "\n",
      "avg / total       0.90      0.39      0.46   2852461\n",
      "\n",
      "Confusion Matrix:\n",
      "\n",
      " [[ 825035 1731513]\n",
      " [  11078  284835]]\n"
     ]
    }
   ],
   "source": [
    "# Test Threshold\n",
    "\n",
    "ext = test[['v50', 'label']]\n",
    "ext.loc[:, 'guess'] = 0\n",
    "ext.loc[ext['v50'] >= best_threshold, 'guess'] = 1\n",
    "\n",
    "print(classification_report(ext['label'], ext['guess']))\n",
    "\n",
    "cm = confusion_matrix(ext['label'], ext['guess'])\n",
    "print('Confusion Matrix:\\n\\n ' + str(cm))\n"
   ]
  },
  {
   "cell_type": "code",
   "execution_count": 10,
   "metadata": {
    "collapsed": false,
    "deletable": true,
    "editable": true
   },
   "outputs": [],
   "source": [
    "fpr, tpr, thresholds = roc_curve(ext['label'], ext['guess'])"
   ]
  },
  {
   "cell_type": "code",
   "execution_count": 11,
   "metadata": {
    "collapsed": false,
    "deletable": true,
    "editable": true
   },
   "outputs": [
    {
     "data": {
      "text/plain": [
       "0.642638889063456"
      ]
     },
     "execution_count": 11,
     "metadata": {},
     "output_type": "execute_result"
    }
   ],
   "source": [
    "my_auc = auc(fpr, tpr)\n",
    "my_auc"
   ]
  },
  {
   "cell_type": "code",
   "execution_count": 12,
   "metadata": {
    "collapsed": false,
    "deletable": true,
    "editable": true
   },
   "outputs": [
    {
     "data": {
      "image/png": "[encoded data removed]",
      "text/plain": [
       "<matplotlib.figure.Figure at 0x7fcab7a59c90>"
      ]
     },
     "metadata": {},
     "output_type": "display_data"
    }
   ],
   "source": [
    "plt.figure()\n",
    "lw = 2\n",
    "plt.plot(fpr, tpr, color='blue',\n",
    "         lw=lw, label='AUC=%0.4f' % my_auc, linestyle='--')\n",
    "plt.xlim([0.0, 1.0])\n",
    "plt.ylim([0.0, 1.05])\n",
    "plt.xlabel('False Positive Rate (FPR)')\n",
    "plt.ylabel('True Positive Rate (TPR)')\n",
    "plt.title('ROC Curve')\n",
    "plt.legend(loc=\"right\",  frameon=False)\n",
    "plt.show()"
   ]
  }
 ],
 "metadata": {
  "kernelspec": {
   "display_name": "Python 2",
   "language": "python",
   "name": "python2"
  },
  "language_info": {
   "codemirror_mode": {
    "name": "ipython",
    "version": 2
   },
   "file_extension": ".py",
   "mimetype": "text/x-python",
   "name": "python",
   "nbconvert_exporter": "python",
   "pygments_lexer": "ipython2",
   "version": "2.7.12"
  }
 },
 "nbformat": 4,
 "nbformat_minor": 2
}
