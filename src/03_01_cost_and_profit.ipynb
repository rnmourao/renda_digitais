{
 "cells": [
  {
   "cell_type": "code",
   "execution_count": 1,
   "metadata": {},
   "outputs": [],
   "source": [
    "import pandas as pd\n",
    "import numpy as np\n",
    "from matplotlib import pyplot as plt"
   ]
  },
  {
   "cell_type": "code",
   "execution_count": 2,
   "metadata": {},
   "outputs": [],
   "source": [
    "MY_SEED = 1980\n",
    "MY_PATH = '/media/mourao/BACKUP/renda_presumida/data/'"
   ]
  },
  {
   "cell_type": "code",
   "execution_count": 3,
   "metadata": {},
   "outputs": [],
   "source": [
    "df = pd.read_csv(MY_PATH + 'c7_e1_temp.csv')"
   ]
  },
  {
   "cell_type": "code",
   "execution_count": 4,
   "metadata": {},
   "outputs": [
    {
     "data": {
      "text/html": [
       "<div>\n",
       "<style scoped>\n",
       "    .dataframe tbody tr th:only-of-type {\n",
       "        vertical-align: middle;\n",
       "    }\n",
       "\n",
       "    .dataframe tbody tr th {\n",
       "        vertical-align: top;\n",
       "    }\n",
       "\n",
       "    .dataframe thead th {\n",
       "        text-align: right;\n",
       "    }\n",
       "</style>\n",
       "<table border=\"1\" class=\"dataframe\">\n",
       "  <thead>\n",
       "    <tr style=\"text-align: right;\">\n",
       "      <th></th>\n",
       "      <th>cd_pss</th>\n",
       "      <th>vl_rend</th>\n",
       "      <th>period</th>\n",
       "      <th>prd</th>\n",
       "      <th>mdld</th>\n",
       "      <th>qt_opr</th>\n",
       "      <th>vl_mgct_cc</th>\n",
       "      <th>origin</th>\n",
       "    </tr>\n",
       "  </thead>\n",
       "  <tbody>\n",
       "    <tr>\n",
       "      <th>0</th>\n",
       "      <td>1645</td>\n",
       "      <td>3412.62</td>\n",
       "      <td>239.451613</td>\n",
       "      <td>6</td>\n",
       "      <td>7</td>\n",
       "      <td>1</td>\n",
       "      <td>0.00</td>\n",
       "      <td>app</td>\n",
       "    </tr>\n",
       "    <tr>\n",
       "      <th>1</th>\n",
       "      <td>13623</td>\n",
       "      <td>61110.95</td>\n",
       "      <td>95.096774</td>\n",
       "      <td>6</td>\n",
       "      <td>7</td>\n",
       "      <td>1</td>\n",
       "      <td>0.00</td>\n",
       "      <td>app</td>\n",
       "    </tr>\n",
       "    <tr>\n",
       "      <th>2</th>\n",
       "      <td>14450</td>\n",
       "      <td>20000.00</td>\n",
       "      <td>203.870968</td>\n",
       "      <td>6</td>\n",
       "      <td>30</td>\n",
       "      <td>1</td>\n",
       "      <td>2.75</td>\n",
       "      <td>app</td>\n",
       "    </tr>\n",
       "    <tr>\n",
       "      <th>3</th>\n",
       "      <td>15790</td>\n",
       "      <td>4577.65</td>\n",
       "      <td>212.258065</td>\n",
       "      <td>6</td>\n",
       "      <td>30</td>\n",
       "      <td>1</td>\n",
       "      <td>0.00</td>\n",
       "      <td>app</td>\n",
       "    </tr>\n",
       "    <tr>\n",
       "      <th>4</th>\n",
       "      <td>15790</td>\n",
       "      <td>4577.65</td>\n",
       "      <td>212.258065</td>\n",
       "      <td>6</td>\n",
       "      <td>34</td>\n",
       "      <td>1</td>\n",
       "      <td>0.00</td>\n",
       "      <td>app</td>\n",
       "    </tr>\n",
       "  </tbody>\n",
       "</table>\n",
       "</div>"
      ],
      "text/plain": [
       "   cd_pss   vl_rend      period  prd  mdld  qt_opr  vl_mgct_cc origin\n",
       "0    1645   3412.62  239.451613    6     7       1        0.00    app\n",
       "1   13623  61110.95   95.096774    6     7       1        0.00    app\n",
       "2   14450  20000.00  203.870968    6    30       1        2.75    app\n",
       "3   15790   4577.65  212.258065    6    30       1        0.00    app\n",
       "4   15790   4577.65  212.258065    6    34       1        0.00    app"
      ]
     },
     "execution_count": 4,
     "metadata": {},
     "output_type": "execute_result"
    }
   ],
   "source": [
    "df.head()"
   ]
  },
  {
   "cell_type": "code",
   "execution_count": 5,
   "metadata": {},
   "outputs": [],
   "source": [
    "df['label'] = 0\n",
    "df['label'] = df['label'].where(df['vl_rend'] < 10000, 1)"
   ]
  },
  {
   "cell_type": "code",
   "execution_count": 6,
   "metadata": {},
   "outputs": [],
   "source": [
    "df['qty_years'] = df.apply(lambda x: np.int(np.round(x.period / 12.0)), axis=1)"
   ]
  },
  {
   "cell_type": "code",
   "execution_count": 7,
   "metadata": {},
   "outputs": [],
   "source": [
    "df['ltv'] = df.apply(lambda x : x['vl_mgct_cc'] * 12, axis=1)"
   ]
  },
  {
   "cell_type": "code",
   "execution_count": 8,
   "metadata": {},
   "outputs": [
    {
     "data": {
      "image/png": "[encoded data removed]",
      "text/plain": [
       "<Figure size 432x288 with 1 Axes>"
      ]
     },
     "metadata": {},
     "output_type": "display_data"
    }
   ],
   "source": [
    "n, bins, patches = plt.hist(df['qty_years'])\n",
    "\n",
    "plt.title('Correntistas x Tempo de Relacionamento')\n",
    "plt.xlabel('Anos de Relacionamento')\n",
    "plt.ylabel('Quantidade de Clientes')\n",
    "\n",
    "plt.show()"
   ]
  },
  {
   "cell_type": "code",
   "execution_count": 9,
   "metadata": {},
   "outputs": [
    {
     "name": "stdout",
     "output_type": "stream",
     "text": [
      "[ 0.   4.3  8.6 12.9 17.2 21.5 25.8 30.1 34.4 38.7 43. ]\n"
     ]
    }
   ],
   "source": [
    "print(bins)"
   ]
  },
  {
   "cell_type": "code",
   "execution_count": 10,
   "metadata": {},
   "outputs": [],
   "source": [
    "common_acc = [1, 4, 5, 7, 8, 10, 11, 12, 13, 14, 15, 16, 17, 18, 19, 21, 22, 23, 24, 25, 29, 30, 36]"
   ]
  },
  {
   "cell_type": "code",
   "execution_count": 22,
   "metadata": {},
   "outputs": [],
   "source": [
    "df = df.loc[((df.origin == 'app') & (df.mdld.isin(common_acc))) | ((df.origin == 'digi') & (df.mdld == 38))]"
   ]
  },
  {
   "cell_type": "code",
   "execution_count": 27,
   "metadata": {},
   "outputs": [
    {
     "data": {
      "text/html": [
       "<div>\n",
       "<style scoped>\n",
       "    .dataframe tbody tr th:only-of-type {\n",
       "        vertical-align: middle;\n",
       "    }\n",
       "\n",
       "    .dataframe tbody tr th {\n",
       "        vertical-align: top;\n",
       "    }\n",
       "\n",
       "    .dataframe thead th {\n",
       "        text-align: right;\n",
       "    }\n",
       "</style>\n",
       "<table border=\"1\" class=\"dataframe\">\n",
       "  <thead>\n",
       "    <tr style=\"text-align: right;\">\n",
       "      <th></th>\n",
       "      <th>qty_years</th>\n",
       "      <th>origin</th>\n",
       "      <th>label</th>\n",
       "      <th>ltv</th>\n",
       "    </tr>\n",
       "  </thead>\n",
       "  <tbody>\n",
       "    <tr>\n",
       "      <th>0</th>\n",
       "      <td>0</td>\n",
       "      <td>app</td>\n",
       "      <td>0</td>\n",
       "      <td>19.875426</td>\n",
       "    </tr>\n",
       "    <tr>\n",
       "      <th>1</th>\n",
       "      <td>0</td>\n",
       "      <td>app</td>\n",
       "      <td>1</td>\n",
       "      <td>90.692467</td>\n",
       "    </tr>\n",
       "    <tr>\n",
       "      <th>2</th>\n",
       "      <td>0</td>\n",
       "      <td>digi</td>\n",
       "      <td>0</td>\n",
       "      <td>17.398920</td>\n",
       "    </tr>\n",
       "    <tr>\n",
       "      <th>3</th>\n",
       "      <td>1</td>\n",
       "      <td>app</td>\n",
       "      <td>0</td>\n",
       "      <td>19.056205</td>\n",
       "    </tr>\n",
       "    <tr>\n",
       "      <th>4</th>\n",
       "      <td>1</td>\n",
       "      <td>app</td>\n",
       "      <td>1</td>\n",
       "      <td>100.749649</td>\n",
       "    </tr>\n",
       "    <tr>\n",
       "      <th>5</th>\n",
       "      <td>1</td>\n",
       "      <td>digi</td>\n",
       "      <td>0</td>\n",
       "      <td>14.597881</td>\n",
       "    </tr>\n",
       "    <tr>\n",
       "      <th>6</th>\n",
       "      <td>2</td>\n",
       "      <td>app</td>\n",
       "      <td>0</td>\n",
       "      <td>18.724987</td>\n",
       "    </tr>\n",
       "    <tr>\n",
       "      <th>7</th>\n",
       "      <td>2</td>\n",
       "      <td>app</td>\n",
       "      <td>1</td>\n",
       "      <td>86.079728</td>\n",
       "    </tr>\n",
       "    <tr>\n",
       "      <th>8</th>\n",
       "      <td>2</td>\n",
       "      <td>digi</td>\n",
       "      <td>0</td>\n",
       "      <td>17.085978</td>\n",
       "    </tr>\n",
       "    <tr>\n",
       "      <th>9</th>\n",
       "      <td>3</td>\n",
       "      <td>app</td>\n",
       "      <td>0</td>\n",
       "      <td>19.208359</td>\n",
       "    </tr>\n",
       "    <tr>\n",
       "      <th>10</th>\n",
       "      <td>3</td>\n",
       "      <td>app</td>\n",
       "      <td>1</td>\n",
       "      <td>91.325598</td>\n",
       "    </tr>\n",
       "    <tr>\n",
       "      <th>11</th>\n",
       "      <td>3</td>\n",
       "      <td>digi</td>\n",
       "      <td>0</td>\n",
       "      <td>17.557615</td>\n",
       "    </tr>\n",
       "    <tr>\n",
       "      <th>12</th>\n",
       "      <td>4</td>\n",
       "      <td>app</td>\n",
       "      <td>0</td>\n",
       "      <td>18.822618</td>\n",
       "    </tr>\n",
       "    <tr>\n",
       "      <th>13</th>\n",
       "      <td>4</td>\n",
       "      <td>app</td>\n",
       "      <td>1</td>\n",
       "      <td>84.547988</td>\n",
       "    </tr>\n",
       "    <tr>\n",
       "      <th>14</th>\n",
       "      <td>4</td>\n",
       "      <td>digi</td>\n",
       "      <td>0</td>\n",
       "      <td>17.092975</td>\n",
       "    </tr>\n",
       "    <tr>\n",
       "      <th>15</th>\n",
       "      <td>5</td>\n",
       "      <td>app</td>\n",
       "      <td>0</td>\n",
       "      <td>21.291178</td>\n",
       "    </tr>\n",
       "    <tr>\n",
       "      <th>16</th>\n",
       "      <td>5</td>\n",
       "      <td>app</td>\n",
       "      <td>1</td>\n",
       "      <td>95.782442</td>\n",
       "    </tr>\n",
       "    <tr>\n",
       "      <th>17</th>\n",
       "      <td>5</td>\n",
       "      <td>digi</td>\n",
       "      <td>0</td>\n",
       "      <td>16.263572</td>\n",
       "    </tr>\n",
       "    <tr>\n",
       "      <th>18</th>\n",
       "      <td>6</td>\n",
       "      <td>app</td>\n",
       "      <td>0</td>\n",
       "      <td>23.993440</td>\n",
       "    </tr>\n",
       "    <tr>\n",
       "      <th>19</th>\n",
       "      <td>6</td>\n",
       "      <td>app</td>\n",
       "      <td>1</td>\n",
       "      <td>102.316336</td>\n",
       "    </tr>\n",
       "  </tbody>\n",
       "</table>\n",
       "</div>"
      ],
      "text/plain": [
       "    qty_years origin  label         ltv\n",
       "0           0    app      0   19.875426\n",
       "1           0    app      1   90.692467\n",
       "2           0   digi      0   17.398920\n",
       "3           1    app      0   19.056205\n",
       "4           1    app      1  100.749649\n",
       "5           1   digi      0   14.597881\n",
       "6           2    app      0   18.724987\n",
       "7           2    app      1   86.079728\n",
       "8           2   digi      0   17.085978\n",
       "9           3    app      0   19.208359\n",
       "10          3    app      1   91.325598\n",
       "11          3   digi      0   17.557615\n",
       "12          4    app      0   18.822618\n",
       "13          4    app      1   84.547988\n",
       "14          4   digi      0   17.092975\n",
       "15          5    app      0   21.291178\n",
       "16          5    app      1   95.782442\n",
       "17          5   digi      0   16.263572\n",
       "18          6    app      0   23.993440\n",
       "19          6    app      1  102.316336"
      ]
     },
     "execution_count": 27,
     "metadata": {},
     "output_type": "execute_result"
    }
   ],
   "source": [
    "ltv = df.groupby(by=['qty_years', 'origin', 'label'], as_index=False)['ltv'].mean()\n",
    "ltv.head(20)"
   ]
  },
  {
   "cell_type": "code",
   "execution_count": 29,
   "metadata": {},
   "outputs": [
    {
     "data": {
      "image/png": "[encoded data removed]",
      "text/plain": [
       "<Figure size 432x288 with 1 Axes>"
      ]
     },
     "metadata": {},
     "output_type": "display_data"
    }
   ],
   "source": [
    "# multiple line plot\n",
    "plt.plot( 'qty_years', 'ltv', data=ltv.loc[ltv.origin == 'digi'], color='lightsalmon')\n",
    "plt.plot( 'qty_years', 'ltv', data=ltv.loc[(ltv.origin == 'app') & (ltv.label == 0)], color='green')\n",
    "plt.plot( 'qty_years', 'ltv', data=ltv.loc[(ltv.origin == 'app') & (ltv.label == 1)], color='skyblue')\n",
    "plt.title('LTV x Tempo\\npor Faixa de Renda')\n",
    "plt.legend(['Digital', 'Baixa Renda', 'Alta Renda']);"
   ]
  },
  {
   "cell_type": "code",
   "execution_count": 30,
   "metadata": {},
   "outputs": [],
   "source": [
    "ltv_dif = pd.pivot_table(ltv, values='ltv', index='qty_years', columns=['origin', 'label'])"
   ]
  },
  {
   "cell_type": "code",
   "execution_count": 31,
   "metadata": {},
   "outputs": [
    {
     "data": {
      "text/html": [
       "<div>\n",
       "<style scoped>\n",
       "    .dataframe tbody tr th:only-of-type {\n",
       "        vertical-align: middle;\n",
       "    }\n",
       "\n",
       "    .dataframe tbody tr th {\n",
       "        vertical-align: top;\n",
       "    }\n",
       "\n",
       "    .dataframe thead tr th {\n",
       "        text-align: left;\n",
       "    }\n",
       "\n",
       "    .dataframe thead tr:last-of-type th {\n",
       "        text-align: right;\n",
       "    }\n",
       "</style>\n",
       "<table border=\"1\" class=\"dataframe\">\n",
       "  <thead>\n",
       "    <tr>\n",
       "      <th>origin</th>\n",
       "      <th colspan=\"2\" halign=\"left\">app</th>\n",
       "      <th>digi</th>\n",
       "    </tr>\n",
       "    <tr>\n",
       "      <th>label</th>\n",
       "      <th>0</th>\n",
       "      <th>1</th>\n",
       "      <th>0</th>\n",
       "    </tr>\n",
       "    <tr>\n",
       "      <th>qty_years</th>\n",
       "      <th></th>\n",
       "      <th></th>\n",
       "      <th></th>\n",
       "    </tr>\n",
       "  </thead>\n",
       "  <tbody>\n",
       "    <tr>\n",
       "      <th>0</th>\n",
       "      <td>19.875426</td>\n",
       "      <td>90.692467</td>\n",
       "      <td>17.398920</td>\n",
       "    </tr>\n",
       "    <tr>\n",
       "      <th>1</th>\n",
       "      <td>19.056205</td>\n",
       "      <td>100.749649</td>\n",
       "      <td>14.597881</td>\n",
       "    </tr>\n",
       "    <tr>\n",
       "      <th>2</th>\n",
       "      <td>18.724987</td>\n",
       "      <td>86.079728</td>\n",
       "      <td>17.085978</td>\n",
       "    </tr>\n",
       "    <tr>\n",
       "      <th>3</th>\n",
       "      <td>19.208359</td>\n",
       "      <td>91.325598</td>\n",
       "      <td>17.557615</td>\n",
       "    </tr>\n",
       "    <tr>\n",
       "      <th>4</th>\n",
       "      <td>18.822618</td>\n",
       "      <td>84.547988</td>\n",
       "      <td>17.092975</td>\n",
       "    </tr>\n",
       "  </tbody>\n",
       "</table>\n",
       "</div>"
      ],
      "text/plain": [
       "origin           app                   digi\n",
       "label              0           1          0\n",
       "qty_years                                  \n",
       "0          19.875426   90.692467  17.398920\n",
       "1          19.056205  100.749649  14.597881\n",
       "2          18.724987   86.079728  17.085978\n",
       "3          19.208359   91.325598  17.557615\n",
       "4          18.822618   84.547988  17.092975"
      ]
     },
     "execution_count": 31,
     "metadata": {},
     "output_type": "execute_result"
    }
   ],
   "source": [
    "ltv_dif.head()"
   ]
  },
  {
   "cell_type": "code",
   "execution_count": 35,
   "metadata": {},
   "outputs": [],
   "source": [
    "ltv_dif['dif'] = ltv_dif[('app', 1)] - ltv_dif[('digi', 0)]"
   ]
  },
  {
   "cell_type": "code",
   "execution_count": 36,
   "metadata": {},
   "outputs": [
    {
     "data": {
      "text/html": [
       "<div>\n",
       "<style scoped>\n",
       "    .dataframe tbody tr th:only-of-type {\n",
       "        vertical-align: middle;\n",
       "    }\n",
       "\n",
       "    .dataframe tbody tr th {\n",
       "        vertical-align: top;\n",
       "    }\n",
       "\n",
       "    .dataframe thead tr th {\n",
       "        text-align: left;\n",
       "    }\n",
       "\n",
       "    .dataframe thead tr:last-of-type th {\n",
       "        text-align: right;\n",
       "    }\n",
       "</style>\n",
       "<table border=\"1\" class=\"dataframe\">\n",
       "  <thead>\n",
       "    <tr>\n",
       "      <th>origin</th>\n",
       "      <th colspan=\"2\" halign=\"left\">app</th>\n",
       "      <th>digi</th>\n",
       "      <th>dif</th>\n",
       "    </tr>\n",
       "    <tr>\n",
       "      <th>label</th>\n",
       "      <th>0</th>\n",
       "      <th>1</th>\n",
       "      <th>0</th>\n",
       "      <th></th>\n",
       "    </tr>\n",
       "    <tr>\n",
       "      <th>qty_years</th>\n",
       "      <th></th>\n",
       "      <th></th>\n",
       "      <th></th>\n",
       "      <th></th>\n",
       "    </tr>\n",
       "  </thead>\n",
       "  <tbody>\n",
       "    <tr>\n",
       "      <th>0</th>\n",
       "      <td>19.875426</td>\n",
       "      <td>90.692467</td>\n",
       "      <td>17.398920</td>\n",
       "      <td>73.293547</td>\n",
       "    </tr>\n",
       "    <tr>\n",
       "      <th>1</th>\n",
       "      <td>19.056205</td>\n",
       "      <td>100.749649</td>\n",
       "      <td>14.597881</td>\n",
       "      <td>86.151768</td>\n",
       "    </tr>\n",
       "    <tr>\n",
       "      <th>2</th>\n",
       "      <td>18.724987</td>\n",
       "      <td>86.079728</td>\n",
       "      <td>17.085978</td>\n",
       "      <td>68.993750</td>\n",
       "    </tr>\n",
       "    <tr>\n",
       "      <th>3</th>\n",
       "      <td>19.208359</td>\n",
       "      <td>91.325598</td>\n",
       "      <td>17.557615</td>\n",
       "      <td>73.767982</td>\n",
       "    </tr>\n",
       "    <tr>\n",
       "      <th>4</th>\n",
       "      <td>18.822618</td>\n",
       "      <td>84.547988</td>\n",
       "      <td>17.092975</td>\n",
       "      <td>67.455013</td>\n",
       "    </tr>\n",
       "  </tbody>\n",
       "</table>\n",
       "</div>"
      ],
      "text/plain": [
       "origin           app                   digi        dif\n",
       "label              0           1          0           \n",
       "qty_years                                             \n",
       "0          19.875426   90.692467  17.398920  73.293547\n",
       "1          19.056205  100.749649  14.597881  86.151768\n",
       "2          18.724987   86.079728  17.085978  68.993750\n",
       "3          19.208359   91.325598  17.557615  73.767982\n",
       "4          18.822618   84.547988  17.092975  67.455013"
      ]
     },
     "execution_count": 36,
     "metadata": {},
     "output_type": "execute_result"
    }
   ],
   "source": [
    "ltv_dif.head()"
   ]
  },
  {
   "cell_type": "code",
   "execution_count": 37,
   "metadata": {},
   "outputs": [
    {
     "data": {
      "image/png": "[encoded data removed]",
      "text/plain": [
       "<Figure size 432x288 with 1 Axes>"
      ]
     },
     "metadata": {},
     "output_type": "display_data"
    }
   ],
   "source": [
    "# multiple line plot\n",
    "plt.plot(ltv_dif['dif'], color='lightsalmon')\n",
    "plt.title('Diferença do LTV Médio\\nde Clientes de Alta e Baixa Renda')\n",
    "plt.ylabel('LTV Médio (R$)')\n",
    "plt.xlabel('Anos de Relacionamento')\n",
    "plt.show()"
   ]
  },
  {
   "cell_type": "code",
   "execution_count": 38,
   "metadata": {},
   "outputs": [
    {
     "data": {
      "text/plain": [
       "302.20704732798987"
      ]
     },
     "execution_count": 38,
     "metadata": {},
     "output_type": "execute_result"
    }
   ],
   "source": [
    "ltv_dif['dif'][:4].sum()"
   ]
  },
  {
   "cell_type": "code",
   "execution_count": 41,
   "metadata": {},
   "outputs": [
    {
     "data": {
      "text/plain": [
       "-393.0"
      ]
     },
     "execution_count": 41,
     "metadata": {},
     "output_type": "execute_result"
    }
   ],
   "source": [
    "10*73.29 - 90*12.51"
   ]
  }
 ],
 "metadata": {
  "kernelspec": {
   "display_name": "Python 3",
   "language": "python",
   "name": "python3"
  },
  "language_info": {
   "codemirror_mode": {
    "name": "ipython",
    "version": 3
   },
   "file_extension": ".py",
   "mimetype": "text/x-python",
   "name": "python",
   "nbconvert_exporter": "python",
   "pygments_lexer": "ipython3",
   "version": "3.6.5"
  }
 },
 "nbformat": 4,
 "nbformat_minor": 2
}
