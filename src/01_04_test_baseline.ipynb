{
 "cells": [
  {
   "cell_type": "code",
   "execution_count": 1,
   "metadata": {
    "collapsed": true
   },
   "outputs": [],
   "source": [
    "import pandas as pd\n",
    "import numpy as np\n",
    "\n",
    "from sklearn.model_selection import GridSearchCV\n",
    "from sklearn.metrics import classification_report, confusion_matrix, roc_curve, auc\n",
    "\n",
    "import matplotlib.pyplot as plt"
   ]
  },
  {
   "cell_type": "code",
   "execution_count": 2,
   "metadata": {
    "collapsed": true
   },
   "outputs": [],
   "source": [
    "# seed for reproducibility\n",
    "my_seed = 1980"
   ]
  },
  {
   "cell_type": "code",
   "execution_count": 3,
   "metadata": {},
   "outputs": [],
   "source": [
    "# read data\n",
    "my_path = '../'\n",
    "\n",
    "train = pd.read_csv(my_path + 'data/c2_e6_2_train.csv')\n",
    "val = pd.read_csv(my_path + 'data/c2_e6_1_validation.csv')\n",
    "test = pd.read_csv(my_path + 'data/c2_e6_1_test.csv')"
   ]
  },
  {
   "cell_type": "code",
   "execution_count": 4,
   "metadata": {},
   "outputs": [
    {
     "name": "stdout",
     "output_type": "stream",
     "text": [
      "             precision    recall  f1-score   support\n",
      "\n",
      "          0       0.96      0.92      0.94     11897\n",
      "          1       0.11      0.20      0.14       580\n",
      "\n",
      "avg / total       0.92      0.89      0.90     12477\n",
      "\n",
      "Confusion Matrix:\n",
      "\n",
      " [[10961   936]\n",
      " [  465   115]]\n"
     ]
    }
   ],
   "source": [
    "# Testing External Information - Direct Approach\n",
    "\n",
    "print(classification_report(test['label'], test['base_guess']))\n",
    "print('Confusion Matrix:\\n\\n ' + str(confusion_matrix(test['label'], test['base_guess'])))"
   ]
  },
  {
   "cell_type": "code",
   "execution_count": 5,
   "metadata": {
    "collapsed": true
   },
   "outputs": [],
   "source": [
    "fpr, tpr, thresholds = roc_curve(test['label'], test['base_guess'])"
   ]
  },
  {
   "cell_type": "code",
   "execution_count": 6,
   "metadata": {},
   "outputs": [
    {
     "data": {
      "text/plain": [
       "0.5598002828878912"
      ]
     },
     "execution_count": 6,
     "metadata": {},
     "output_type": "execute_result"
    }
   ],
   "source": [
    "my_auc = auc(fpr, tpr)\n",
    "my_auc"
   ]
  },
  {
   "cell_type": "code",
   "execution_count": 8,
   "metadata": {},
   "outputs": [
    {
     "data": {
      "image/png": "[encoded data removed]",
      "text/plain": [
       "<matplotlib.figure.Figure at 0x7ffa398cb090>"
      ]
     },
     "metadata": {},
     "output_type": "display_data"
    }
   ],
   "source": [
    "plt.figure()\n",
    "lw = 2\n",
    "plt.plot(fpr, tpr, color='blue',\n",
    "         lw=lw, label='AUC=%0.4f' % my_auc, linestyle='--')\n",
    "plt.xlim([0.0, 1.0])\n",
    "plt.ylim([0.0, 1.05])\n",
    "plt.xlabel('False Positive Rate (FPR)')\n",
    "plt.ylabel('True Positive Rate (TPR)')\n",
    "plt.title('ROC Curve')\n",
    "plt.legend(loc=\"right\",  frameon=False)\n",
    "plt.show()"
   ]
  },
  {
   "cell_type": "code",
   "execution_count": 46,
   "metadata": {
    "scrolled": false
   },
   "outputs": [
    {
     "name": "stdout",
     "output_type": "stream",
     "text": [
      "Best Threshold: 0.3219018\n",
      "F1-Measure:0.5688362619421152\n"
     ]
    }
   ],
   "source": [
    "# Testing External Information - Searching for a Threshold\n",
    "\n",
    "step = 0.0536503\n",
    "minimum = np.min(train['v50'])\n",
    "maximum = np.max(train['v50']) + step\n",
    "\n",
    "cv_list = [0, 1, 2, 3, 4]\n",
    "cv_index = np.random.choice(5, len(train), replace=True)\n",
    "cv_index.sort()\n",
    "\n",
    "ext = train[['v50', 'label']]\n",
    "ext.loc[:, 'cv'] = cv_index\n",
    "\n",
    "best_f1_mean = 0\n",
    "best_threshold = 0\n",
    "\n",
    "for threshold in np.arange(minimum, maximum, step):\n",
    "    f1_list = []\n",
    "    \n",
    "    for cv in cv_list:\n",
    "        cv_test = ext.loc[ext['cv'] == cv]\n",
    "        cv_test.is_copy = False\n",
    "        \n",
    "        cv_test['guess'] = 0\n",
    "        cv_test.loc[cv_test['v50'] >= threshold, 'guess'] = 1\n",
    "\n",
    "        cm = confusion_matrix(cv_test['label'], cv_test['guess'])\n",
    "        try:\n",
    "            f1 = 2 * cm[1][1] / float(2 * cm[1][1] + cm[0][1] + cm[1][0])\n",
    "        except IndexError:\n",
    "            f1 = 0\n",
    "        f1_list.append(f1)\n",
    "        \n",
    "    f1_mean = np.mean(f1_list)\n",
    "    \n",
    "    if f1_mean > best_f1_mean:\n",
    "        best_threshold = threshold\n",
    "        best_f1_mean = f1_mean\n",
    "\n",
    "print(\"Best Threshold: \" + str(best_threshold))\n",
    "print(\"F1-Measure:\" + str(best_f1_mean))"
   ]
  },
  {
   "cell_type": "code",
   "execution_count": 47,
   "metadata": {},
   "outputs": [
    {
     "name": "stdout",
     "output_type": "stream",
     "text": [
      "             precision    recall  f1-score   support\n",
      "\n",
      "          0       0.99      0.39      0.56     11897\n",
      "          1       0.07      0.92      0.13       580\n",
      "\n",
      "avg / total       0.95      0.41      0.54     12477\n",
      "\n",
      "Confusion Matrix:\n",
      "\n",
      " [[4604 7293]\n",
      " [  49  531]]\n"
     ]
    }
   ],
   "source": [
    "# Test Threshold\n",
    "\n",
    "ext = test[['v50', 'label']]\n",
    "ext.loc[:, 'guess'] = 0\n",
    "ext.loc[ext['v50'] >= best_threshold, 'guess'] = 1\n",
    "\n",
    "print(classification_report(ext['label'], ext['guess']))\n",
    "\n",
    "cm = confusion_matrix(ext['label'], ext['guess'])\n",
    "print('Confusion Matrix:\\n\\n ' + str(cm))\n"
   ]
  },
  {
   "cell_type": "code",
   "execution_count": 48,
   "metadata": {},
   "outputs": [],
   "source": [
    "fpr, tpr, thresholds = roc_curve(ext['label'], ext['guess'])"
   ]
  },
  {
   "cell_type": "code",
   "execution_count": 49,
   "metadata": {},
   "outputs": [
    {
     "data": {
      "text/plain": [
       "0.6512527788807958"
      ]
     },
     "execution_count": 49,
     "metadata": {},
     "output_type": "execute_result"
    }
   ],
   "source": [
    "my_auc = auc(fpr, tpr)\n",
    "my_auc"
   ]
  },
  {
   "cell_type": "code",
   "execution_count": 50,
   "metadata": {},
   "outputs": [
    {
     "data": {
      "image/png": "[encoded data removed]",
      "text/plain": [
       "<matplotlib.figure.Figure at 0x7ffa3945ddd0>"
      ]
     },
     "metadata": {},
     "output_type": "display_data"
    }
   ],
   "source": [
    "plt.figure()\n",
    "lw = 2\n",
    "plt.plot(fpr, tpr, color='blue',\n",
    "         lw=lw, label='AUC=%0.4f' % my_auc, linestyle='--')\n",
    "plt.xlim([0.0, 1.0])\n",
    "plt.ylim([0.0, 1.05])\n",
    "plt.xlabel('False Positive Rate (FPR)')\n",
    "plt.ylabel('True Positive Rate (TPR)')\n",
    "plt.title('ROC Curve')\n",
    "plt.legend(loc=\"right\",  frameon=False)\n",
    "plt.show()"
   ]
  }
 ],
 "metadata": {
  "kernelspec": {
   "display_name": "Python 2",
   "language": "python",
   "name": "python2"
  },
  "language_info": {
   "codemirror_mode": {
    "name": "ipython",
    "version": 2
   },
   "file_extension": ".py",
   "mimetype": "text/x-python",
   "name": "python",
   "nbconvert_exporter": "python",
   "pygments_lexer": "ipython2",
   "version": "2.7.12"
  }
 },
 "nbformat": 4,
 "nbformat_minor": 2
}
