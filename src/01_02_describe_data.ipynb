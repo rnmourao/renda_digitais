{
 "cells": [
  {
   "cell_type": "code",
   "execution_count": 85,
   "metadata": {
    "collapsed": true
   },
   "outputs": [],
   "source": [
    "# encoding: utf-8"
   ]
  },
  {
   "cell_type": "code",
   "execution_count": 86,
   "metadata": {
    "collapsed": true
   },
   "outputs": [],
   "source": [
    "#################################\n",
    "# Describe data                 #\n",
    "#################################\n",
    "import numpy as np\n",
    "import pandas as pd\n",
    "\n",
    "from pyspark.context import SparkContext\n",
    "from pyspark.sql.session import SparkSession\n",
    "from pyspark.sql import functions as F\n",
    "from pyspark.sql import types as T\n",
    "from pyspark.sql import window as W\n",
    "\n",
    "%matplotlib inline\n",
    "import matplotlib.pyplot as plt\n",
    "from matplotlib.ticker import FuncFormatter\n",
    "\n",
    "import multiprocessing"
   ]
  },
  {
   "cell_type": "code",
   "execution_count": 87,
   "metadata": {
    "collapsed": true
   },
   "outputs": [],
   "source": [
    "# create SparkContext and SparkSession to process files\n",
    "cores = multiprocessing.cpu_count() - 2\n",
    "\n",
    "sc = SparkContext('local[' + str(cores) + ']', 'example')\n",
    "spark = SparkSession(sc)"
   ]
  },
  {
   "cell_type": "code",
   "execution_count": 88,
   "metadata": {
    "collapsed": true
   },
   "outputs": [],
   "source": [
    "# csv files' path\n",
    "my_path = '../data/'"
   ]
  },
  {
   "cell_type": "code",
   "execution_count": 89,
   "metadata": {},
   "outputs": [],
   "source": [
    "app = spark.read.format('csv') \\\n",
    "    .option('sep', ',') \\\n",
    "    .option('header', 'True') \\\n",
    "    .option('inferSchema', 'True') \\\n",
    "    .load(my_path + 'dados_mov.csv')\n",
    "app.createOrReplaceTempView(\"tab_app\")"
   ]
  },
  {
   "cell_type": "raw",
   "metadata": {},
   "source": [
    "app.cache()"
   ]
  },
  {
   "cell_type": "code",
   "execution_count": 9,
   "metadata": {
    "collapsed": true
   },
   "outputs": [],
   "source": [
    "digi = spark.read.format('csv') \\\n",
    "    .option('sep', ',') \\\n",
    "    .option('header', 'True') \\\n",
    "    .option('inferSchema', 'True') \\\n",
    "    .load(my_path + 'dados_digi.csv')\n",
    "digi.createOrReplaceTempView(\"tab_digi\")"
   ]
  },
  {
   "cell_type": "raw",
   "metadata": {},
   "source": [
    "digi.cache()"
   ]
  },
  {
   "cell_type": "code",
   "execution_count": 10,
   "metadata": {
    "collapsed": true
   },
   "outputs": [],
   "source": [
    "states = spark.read.format('csv') \\\n",
    "    .option('sep', ',') \\\n",
    "    .option('header', 'True') \\\n",
    "    .option('inferSchema', 'True') \\\n",
    "    .load(my_path + 'states.csv')\n",
    "states.createOrReplaceTempView(\"tab_states\")"
   ]
  },
  {
   "cell_type": "code",
   "execution_count": 11,
   "metadata": {
    "collapsed": true
   },
   "outputs": [],
   "source": [
    "counts = [app.count(), digi.count()]"
   ]
  },
  {
   "cell_type": "code",
   "execution_count": 12,
   "metadata": {},
   "outputs": [
    {
     "data": {
      "image/png": "[encoded data removed]",
      "text/plain": [
       "<matplotlib.figure.Figure at 0x7fd991d33210>"
      ]
     },
     "metadata": {},
     "output_type": "display_data"
    }
   ],
   "source": [
    "# quantities between common and digital accounts\n",
    "rotulos = ['Regular Customers', 'Digital Customers']\n",
    "quantidades = counts\n",
    "explode = (.1, .1)  \n",
    "\n",
    "fig, ax = plt.subplots()\n",
    "ax.pie(quantidades, explode=explode, labels=rotulos, autopct='%1.0f%%',\n",
    "        shadow=True, startangle=0, wedgeprops={'linewidth': 0}, colors=['skyblue', 'lightsalmon'])\n",
    "ax.axis('equal')\n",
    "\n",
    "plt.show()"
   ]
  },
  {
   "cell_type": "code",
   "execution_count": 13,
   "metadata": {
    "collapsed": true
   },
   "outputs": [],
   "source": [
    "gender_app = app.select('cd_sexo').groupBy('cd_sexo').count().toPandas()"
   ]
  },
  {
   "cell_type": "code",
   "execution_count": 14,
   "metadata": {},
   "outputs": [
    {
     "data": {
      "text/html": [
       "<div>\n",
       "<style scoped>\n",
       "    .dataframe tbody tr th:only-of-type {\n",
       "        vertical-align: middle;\n",
       "    }\n",
       "\n",
       "    .dataframe tbody tr th {\n",
       "        vertical-align: top;\n",
       "    }\n",
       "\n",
       "    .dataframe thead th {\n",
       "        text-align: right;\n",
       "    }\n",
       "</style>\n",
       "<table border=\"1\" class=\"dataframe\">\n",
       "  <thead>\n",
       "    <tr style=\"text-align: right;\">\n",
       "      <th></th>\n",
       "      <th>cd_sexo</th>\n",
       "      <th>count</th>\n",
       "    </tr>\n",
       "  </thead>\n",
       "  <tbody>\n",
       "    <tr>\n",
       "      <th>0</th>\n",
       "      <td>m</td>\n",
       "      <td>5192750</td>\n",
       "    </tr>\n",
       "    <tr>\n",
       "      <th>1</th>\n",
       "      <td>None</td>\n",
       "      <td>130376</td>\n",
       "    </tr>\n",
       "    <tr>\n",
       "      <th>2</th>\n",
       "      <td>f</td>\n",
       "      <td>4623201</td>\n",
       "    </tr>\n",
       "  </tbody>\n",
       "</table>\n",
       "</div>"
      ],
      "text/plain": [
       "  cd_sexo    count\n",
       "0       m  5192750\n",
       "1    None   130376\n",
       "2       f  4623201"
      ]
     },
     "execution_count": 14,
     "metadata": {},
     "output_type": "execute_result"
    }
   ],
   "source": [
    "gender_app"
   ]
  },
  {
   "cell_type": "code",
   "execution_count": 15,
   "metadata": {
    "collapsed": true
   },
   "outputs": [],
   "source": [
    "gender_digi = digi.select('cd_sexo').groupBy('cd_sexo').count().toPandas()"
   ]
  },
  {
   "cell_type": "code",
   "execution_count": 16,
   "metadata": {},
   "outputs": [
    {
     "data": {
      "text/html": [
       "<div>\n",
       "<style scoped>\n",
       "    .dataframe tbody tr th:only-of-type {\n",
       "        vertical-align: middle;\n",
       "    }\n",
       "\n",
       "    .dataframe tbody tr th {\n",
       "        vertical-align: top;\n",
       "    }\n",
       "\n",
       "    .dataframe thead th {\n",
       "        text-align: right;\n",
       "    }\n",
       "</style>\n",
       "<table border=\"1\" class=\"dataframe\">\n",
       "  <thead>\n",
       "    <tr style=\"text-align: right;\">\n",
       "      <th></th>\n",
       "      <th>cd_sexo</th>\n",
       "      <th>count</th>\n",
       "    </tr>\n",
       "  </thead>\n",
       "  <tbody>\n",
       "    <tr>\n",
       "      <th>0</th>\n",
       "      <td>m</td>\n",
       "      <td>267435</td>\n",
       "    </tr>\n",
       "    <tr>\n",
       "      <th>1</th>\n",
       "      <td>None</td>\n",
       "      <td>496623</td>\n",
       "    </tr>\n",
       "    <tr>\n",
       "      <th>2</th>\n",
       "      <td>f</td>\n",
       "      <td>246620</td>\n",
       "    </tr>\n",
       "  </tbody>\n",
       "</table>\n",
       "</div>"
      ],
      "text/plain": [
       "  cd_sexo   count\n",
       "0       m  267435\n",
       "1    None  496623\n",
       "2       f  246620"
      ]
     },
     "execution_count": 16,
     "metadata": {},
     "output_type": "execute_result"
    }
   ],
   "source": [
    "gender_digi"
   ]
  },
  {
   "cell_type": "code",
   "execution_count": 17,
   "metadata": {},
   "outputs": [
    {
     "data": {
      "image/png": "[encoded data removed]",
      "text/plain": [
       "<matplotlib.figure.Figure at 0x7fd990cafd90>"
      ]
     },
     "metadata": {},
     "output_type": "display_data"
    }
   ],
   "source": [
    "# quantities between male and app accounts\n",
    "rotulos = ['Masculino', u'Não Informado', 'Feminino']\n",
    "quantidades = gender_app['count']\n",
    "explode = (.05, .05, .05)  \n",
    "\n",
    "fig, ax = plt.subplots()\n",
    "ax.pie(quantidades, explode=explode, labels=rotulos, autopct='%1.0f%%',\n",
    "        shadow=True, startangle=180, wedgeprops={'linewidth': 0}, colors=['skyblue', 'silver', 'lightsalmon'])\n",
    "ax.axis('equal')\n",
    "\n",
    "plt.show()"
   ]
  },
  {
   "cell_type": "code",
   "execution_count": 18,
   "metadata": {},
   "outputs": [
    {
     "data": {
      "image/png": "[encoded data removed]",
      "text/plain": [
       "<matplotlib.figure.Figure at 0x7fd990cafcd0>"
      ]
     },
     "metadata": {},
     "output_type": "display_data"
    }
   ],
   "source": [
    "# quantities between male and digital accounts\n",
    "rotulos = ['Masculino', u'Não Informado', 'Feminino']\n",
    "quantidades = gender_digi['count']\n",
    "explode = (.05, .05, .05)  \n",
    "\n",
    "fig, ax = plt.subplots()\n",
    "ax.pie(quantidades, explode=explode, labels=rotulos, autopct='%1.0f%%',\n",
    "        shadow=True, startangle=180, wedgeprops={'linewidth': 0}, colors=['skyblue', 'silver', 'lightsalmon'])\n",
    "ax.axis('equal')\n",
    "\n",
    "plt.show()"
   ]
  },
  {
   "cell_type": "code",
   "execution_count": 19,
   "metadata": {
    "collapsed": true
   },
   "outputs": [],
   "source": [
    "def to_percent(y, position):\n",
    "    # Ignore the passed in position. This has the effect of scaling the default\n",
    "    # tick locations.\n",
    "    s = str(100 * y)\n",
    "\n",
    "    # The percent symbol needs escaping in latex\n",
    "    if plt.rcParams['text.usetex'] is True:\n",
    "        return s + r'$\\%$'\n",
    "    else:\n",
    "        return s + '%'\n",
    "\n",
    "formatter = FuncFormatter(to_percent)    "
   ]
  },
  {
   "cell_type": "code",
   "execution_count": 20,
   "metadata": {
    "collapsed": true
   },
   "outputs": [],
   "source": [
    "ages_app = [x for x in app.select('nr_idd').rdd.flatMap(lambda x: x).collect()]"
   ]
  },
  {
   "cell_type": "code",
   "execution_count": 21,
   "metadata": {},
   "outputs": [
    {
     "data": {
      "image/png": "[encoded data removed]",
      "text/plain": [
       "<matplotlib.figure.Figure at 0x7fd990bd0dd0>"
      ]
     },
     "metadata": {},
     "output_type": "display_data"
    }
   ],
   "source": [
    "# age histogram\n",
    "fig, ax = plt.subplots(figsize=(9, 3))\n",
    "\n",
    "ax.hist(ages_app, 20, facecolor='skyblue', normed=True, range=(18, 100))\n",
    "ax.set_xlabel(u'Idade')\n",
    "ax.set_ylabel(u'Clientes (%)')\n",
    "\n",
    "fig.tight_layout()\n",
    "\n",
    "plt.gca().yaxis.set_major_formatter(formatter)\n",
    "plt.show()"
   ]
  },
  {
   "cell_type": "code",
   "execution_count": 22,
   "metadata": {
    "collapsed": true
   },
   "outputs": [],
   "source": [
    "ages_digi = [x for x in digi.select('nr_idd').rdd.flatMap(lambda x: x).collect()]"
   ]
  },
  {
   "cell_type": "code",
   "execution_count": 23,
   "metadata": {},
   "outputs": [
    {
     "data": {
      "image/png": "[encoded data removed]",
      "text/plain": [
       "<matplotlib.figure.Figure at 0x7fd990c63090>"
      ]
     },
     "metadata": {},
     "output_type": "display_data"
    }
   ],
   "source": [
    "# age histogram\n",
    "fig, ax = plt.subplots(figsize=(9, 3))\n",
    "\n",
    "ax.hist(ages_digi, 20, facecolor='lightsalmon', normed=True, range=(18, 100))\n",
    "ax.set_xlabel(u'Idade')\n",
    "ax.set_ylabel(u'Clientes (%)')\n",
    "\n",
    "fig.tight_layout()\n",
    "plt.gca().yaxis.set_major_formatter(formatter)\n",
    "plt.show()"
   ]
  },
  {
   "cell_type": "code",
   "execution_count": 24,
   "metadata": {},
   "outputs": [
    {
     "data": {
      "text/html": [
       "<div>\n",
       "<style scoped>\n",
       "    .dataframe tbody tr th:only-of-type {\n",
       "        vertical-align: middle;\n",
       "    }\n",
       "\n",
       "    .dataframe tbody tr th {\n",
       "        vertical-align: top;\n",
       "    }\n",
       "\n",
       "    .dataframe thead th {\n",
       "        text-align: right;\n",
       "    }\n",
       "</style>\n",
       "<table border=\"1\" class=\"dataframe\">\n",
       "  <thead>\n",
       "    <tr style=\"text-align: right;\">\n",
       "      <th></th>\n",
       "      <th>total_capital</th>\n",
       "      <th>total_other</th>\n",
       "    </tr>\n",
       "  </thead>\n",
       "  <tbody>\n",
       "    <tr>\n",
       "      <th>0</th>\n",
       "      <td>2776744</td>\n",
       "      <td>7003079</td>\n",
       "    </tr>\n",
       "    <tr>\n",
       "      <th>1</th>\n",
       "      <td>261334</td>\n",
       "      <td>733095</td>\n",
       "    </tr>\n",
       "  </tbody>\n",
       "</table>\n",
       "</div>"
      ],
      "text/plain": [
       "   total_capital  total_other\n",
       "0        2776744      7003079\n",
       "1         261334       733095"
      ]
     },
     "execution_count": 24,
     "metadata": {},
     "output_type": "execute_result"
    }
   ],
   "source": [
    "cities = spark.sql(\"\"\"\n",
    "    select sum(c.qty_capital) as total_capital\n",
    "         , sum(d.qty_other) as total_other\n",
    "    from (\n",
    "            select sg_uf_uor as uf\n",
    "                 , count(*) as qty_capital\n",
    "            from tab_app a\n",
    "               , tab_states b\n",
    "            where a.sg_uf_uor = b.uf\n",
    "              and a.nm_mun_uor = b.nm_mun\n",
    "            group by sg_uf_uor ) c\n",
    "       , (\n",
    "            select sg_uf_uor as uf\n",
    "                 , count(*) as qty_other\n",
    "            from tab_app a\n",
    "               , tab_states b\n",
    "            where a.sg_uf_uor = b.uf\n",
    "              and a.nm_mun_uor != b.nm_mun\n",
    "            group by sg_uf_uor  ) d\n",
    "    where c.uf = d.uf\n",
    "    \n",
    "    union\n",
    "    \n",
    "    select sum(c.qty_capital) as total_capital\n",
    "         , sum(d.qty_other) as total_other\n",
    "    from (\n",
    "            select sg_uf_uor as uf\n",
    "                 , count(*) as qty_capital\n",
    "            from tab_digi a\n",
    "               , tab_states b\n",
    "            where a.sg_uf_uor = b.uf\n",
    "              and a.nm_mun_uor = b.nm_mun\n",
    "            group by sg_uf_uor ) c\n",
    "       , (\n",
    "            select sg_uf_uor as uf\n",
    "                 , count(*) as qty_other\n",
    "            from tab_digi a\n",
    "               , tab_states b\n",
    "            where a.sg_uf_uor = b.uf\n",
    "              and a.nm_mun_uor != b.nm_mun\n",
    "            group by sg_uf_uor  ) d\n",
    "    where c.uf = d.uf\n",
    "    \n",
    "\"\"\").toPandas()\n",
    "cities"
   ]
  },
  {
   "cell_type": "code",
   "execution_count": 25,
   "metadata": {
    "collapsed": true
   },
   "outputs": [],
   "source": [
    "cities_bkp = cities"
   ]
  },
  {
   "cell_type": "code",
   "execution_count": 26,
   "metadata": {
    "collapsed": true
   },
   "outputs": [],
   "source": [
    "cities = cities_bkp"
   ]
  },
  {
   "cell_type": "code",
   "execution_count": 27,
   "metadata": {},
   "outputs": [
    {
     "data": {
      "text/html": [
       "<div>\n",
       "<style scoped>\n",
       "    .dataframe tbody tr th:only-of-type {\n",
       "        vertical-align: middle;\n",
       "    }\n",
       "\n",
       "    .dataframe tbody tr th {\n",
       "        vertical-align: top;\n",
       "    }\n",
       "\n",
       "    .dataframe thead th {\n",
       "        text-align: right;\n",
       "    }\n",
       "</style>\n",
       "<table border=\"1\" class=\"dataframe\">\n",
       "  <thead>\n",
       "    <tr style=\"text-align: right;\">\n",
       "      <th></th>\n",
       "      <th>app</th>\n",
       "      <th>digi</th>\n",
       "    </tr>\n",
       "  </thead>\n",
       "  <tbody>\n",
       "    <tr>\n",
       "      <th>total_capital</th>\n",
       "      <td>2776744</td>\n",
       "      <td>261334</td>\n",
       "    </tr>\n",
       "    <tr>\n",
       "      <th>total_other</th>\n",
       "      <td>7003079</td>\n",
       "      <td>733095</td>\n",
       "    </tr>\n",
       "  </tbody>\n",
       "</table>\n",
       "</div>"
      ],
      "text/plain": [
       "                   app    digi\n",
       "total_capital  2776744  261334\n",
       "total_other    7003079  733095"
      ]
     },
     "execution_count": 27,
     "metadata": {},
     "output_type": "execute_result"
    }
   ],
   "source": [
    "cities = cities.transpose()\n",
    "cities.columns = ['app', 'digi']\n",
    "cities"
   ]
  },
  {
   "cell_type": "code",
   "execution_count": 28,
   "metadata": {},
   "outputs": [
    {
     "name": "stdout",
     "output_type": "stream",
     "text": [
      "9779823 994429\n"
     ]
    }
   ],
   "source": [
    "sum_app = cities['app'].sum()\n",
    "sum_digi = cities['digi'].sum()\n",
    "print sum_app, sum_digi"
   ]
  },
  {
   "cell_type": "code",
   "execution_count": 29,
   "metadata": {
    "collapsed": true
   },
   "outputs": [],
   "source": [
    "app_capital = 100 * cities.loc['total_capital', 'app'] / float(sum_app)\n",
    "app_other = 100 * cities.loc['total_other', 'app'] / float(sum_app)\n",
    "\n",
    "digi_capital = 100 * cities.loc['total_capital', 'digi'] / float(sum_digi)\n",
    "digi_other = 100 * cities.loc['total_other', 'digi'] / float(sum_digi)"
   ]
  },
  {
   "cell_type": "code",
   "execution_count": 30,
   "metadata": {},
   "outputs": [
    {
     "name": "stdout",
     "output_type": "stream",
     "text": [
      "28.392579293101726 71.60742070689827 26.27980479249901 73.72019520750099\n"
     ]
    }
   ],
   "source": [
    "print app_capital, app_other, digi_capital, digi_other"
   ]
  },
  {
   "cell_type": "code",
   "execution_count": 31,
   "metadata": {},
   "outputs": [
    {
     "data": {
      "image/png": "[encoded data removed]",
      "text/plain": [
       "<matplotlib.figure.Figure at 0x7fd990a2e090>"
      ]
     },
     "metadata": {},
     "output_type": "display_data"
    }
   ],
   "source": [
    "# create plot\n",
    "import numpy as np\n",
    "fig, ax = plt.subplots()\n",
    "index = np.arange(2)\n",
    "bar_width = 0.35\n",
    "opacity = 0.8\n",
    "\n",
    "rects1 = plt.bar(index, [app_capital, digi_capital], bar_width,\n",
    "                 alpha=opacity,\n",
    "                 color='skyblue',\n",
    "                 label='Capitais')\n",
    "\n",
    "rects2 = plt.bar(index + bar_width, [app_other, digi_other], bar_width,\n",
    "                 alpha=opacity,\n",
    "                 color='lightsalmon',\n",
    "                 label='Outras')\n",
    "\n",
    "# plt.xlabel(i)\n",
    "plt.ylabel('%')\n",
    "#     plt.title('Scores by person')\n",
    "plt.xticks(index + .5 * bar_width, ('Clientes Convencionais', 'Clientes Digitais'))\n",
    "plt.legend(title='Localidade')\n",
    "\n",
    "plt.tight_layout()\n",
    "plt.show()\n"
   ]
  },
  {
   "cell_type": "code",
   "execution_count": 32,
   "metadata": {},
   "outputs": [
    {
     "data": {
      "text/html": [
       "<div>\n",
       "<style scoped>\n",
       "    .dataframe tbody tr th:only-of-type {\n",
       "        vertical-align: middle;\n",
       "    }\n",
       "\n",
       "    .dataframe tbody tr th {\n",
       "        vertical-align: top;\n",
       "    }\n",
       "\n",
       "    .dataframe thead th {\n",
       "        text-align: right;\n",
       "    }\n",
       "</style>\n",
       "<table border=\"1\" class=\"dataframe\">\n",
       "  <thead>\n",
       "    <tr style=\"text-align: right;\">\n",
       "      <th></th>\n",
       "      <th>wage</th>\n",
       "      <th>qty</th>\n",
       "    </tr>\n",
       "  </thead>\n",
       "  <tbody>\n",
       "    <tr>\n",
       "      <th>0</th>\n",
       "      <td>Above</td>\n",
       "      <td>981383</td>\n",
       "    </tr>\n",
       "    <tr>\n",
       "      <th>1</th>\n",
       "      <td>Below</td>\n",
       "      <td>8964944</td>\n",
       "    </tr>\n",
       "  </tbody>\n",
       "</table>\n",
       "</div>"
      ],
      "text/plain": [
       "    wage      qty\n",
       "0  Above   981383\n",
       "1  Below  8964944"
      ]
     },
     "execution_count": 32,
     "metadata": {},
     "output_type": "execute_result"
    }
   ],
   "source": [
    "wages = spark.sql(\"\"\"\n",
    "    select wage\n",
    "         , count(*) as qty\n",
    "    from ( select case \n",
    "                      when vl_rend >= 10000 then 'Above'\n",
    "                      else 'Below'\n",
    "                  end as wage\n",
    "           from tab_app )\n",
    "    group by wage\n",
    "\"\"\").toPandas()\n",
    "wages"
   ]
  },
  {
   "cell_type": "code",
   "execution_count": 33,
   "metadata": {},
   "outputs": [
    {
     "data": {
      "image/png": "[encoded data removed]",
      "text/plain": [
       "<matplotlib.figure.Figure at 0x7fd9909ea090>"
      ]
     },
     "metadata": {},
     "output_type": "display_data"
    }
   ],
   "source": [
    "# pie about wages\n",
    "rotulos = wages['wage']\n",
    "quantidades = wages['qty']\n",
    "explode= [.1, .1]\n",
    "\n",
    "fig, ax = plt.subplots()\n",
    "ax.pie(quantidades, explode=explode, labels=rotulos, autopct='%1.0f%%',\n",
    "        shadow=True, startangle=0, wedgeprops={'linewidth': 0}, colors=['lightsalmon', 'skyblue'])\n",
    "ax.axis('equal')\n",
    "\n",
    "plt.show()"
   ]
  },
  {
   "cell_type": "code",
   "execution_count": 34,
   "metadata": {},
   "outputs": [
    {
     "data": {
      "text/html": [
       "<div>\n",
       "<style scoped>\n",
       "    .dataframe tbody tr th:only-of-type {\n",
       "        vertical-align: middle;\n",
       "    }\n",
       "\n",
       "    .dataframe tbody tr th {\n",
       "        vertical-align: top;\n",
       "    }\n",
       "\n",
       "    .dataframe thead th {\n",
       "        text-align: right;\n",
       "    }\n",
       "</style>\n",
       "<table border=\"1\" class=\"dataframe\">\n",
       "  <thead>\n",
       "    <tr style=\"text-align: right;\">\n",
       "      <th></th>\n",
       "      <th>wage</th>\n",
       "      <th>media</th>\n",
       "      <th>desvio</th>\n",
       "    </tr>\n",
       "  </thead>\n",
       "  <tbody>\n",
       "    <tr>\n",
       "      <th>0</th>\n",
       "      <td>[0,01, 1000)</td>\n",
       "      <td>3.0</td>\n",
       "      <td>2.0</td>\n",
       "    </tr>\n",
       "    <tr>\n",
       "      <th>1</th>\n",
       "      <td>[1000, 4000)</td>\n",
       "      <td>4.0</td>\n",
       "      <td>2.0</td>\n",
       "    </tr>\n",
       "    <tr>\n",
       "      <th>2</th>\n",
       "      <td>[10000, +Inf)</td>\n",
       "      <td>7.0</td>\n",
       "      <td>3.0</td>\n",
       "    </tr>\n",
       "    <tr>\n",
       "      <th>3</th>\n",
       "      <td>[4000, 10000)</td>\n",
       "      <td>6.0</td>\n",
       "      <td>3.0</td>\n",
       "    </tr>\n",
       "  </tbody>\n",
       "</table>\n",
       "</div>"
      ],
      "text/plain": [
       "            wage  media  desvio\n",
       "0   [0,01, 1000)    3.0     2.0\n",
       "1   [1000, 4000)    4.0     2.0\n",
       "2  [10000, +Inf)    7.0     3.0\n",
       "3  [4000, 10000)    6.0     3.0"
      ]
     },
     "execution_count": 34,
     "metadata": {},
     "output_type": "execute_result"
    }
   ],
   "source": [
    "products = spark.sql(\"\"\"\n",
    "    select wage\n",
    "         , round(avg(qt_prd_obsd)) as media\n",
    "         , round(std(qt_prd_obsd)) as desvio\n",
    "    from\n",
    "    ( select case \n",
    "                when vl_rend < 1000 then '[0,01, 1000)'\n",
    "                when vl_rend >= 1000 and vl_rend < 4000 then '[1000, 4000)'\n",
    "                when vl_rend >= 4000 and vl_rend < 10000 then '[4000, 10000)'\n",
    "                when vl_rend >= 10000 then '[10000, +Inf)'\n",
    "             end as wage\n",
    "           , qt_prd_obsd  \n",
    "      from tab_app )\n",
    "    group by wage\n",
    "\"\"\").toPandas()\n",
    "products"
   ]
  },
  {
   "cell_type": "code",
   "execution_count": 35,
   "metadata": {},
   "outputs": [
    {
     "name": "stdout",
     "output_type": "stream",
     "text": [
      "+--------+---------------------------+\n",
      "|    wage|corr(vl_rend, vl_mgct_obsd)|\n",
      "+--------+---------------------------+\n",
      "| < 10000|        0.03594772819552715|\n",
      "|>= 10000|        0.37485985898903057|\n",
      "+--------+---------------------------+\n",
      "\n"
     ]
    }
   ],
   "source": [
    "correlation = spark.sql(\"\"\"\n",
    "    select '< 10000' as wage \n",
    "         , corr(vl_rend, vl_mgct_obsd)\n",
    "    from tab_app\n",
    "    where vl_rend < 10000\n",
    "    \n",
    "    union\n",
    "    \n",
    "    select '>= 10000' as wage \n",
    "         , corr(vl_rend, vl_mgct_obsd)\n",
    "    from tab_app\n",
    "    where vl_rend >= 10000\n",
    "    \n",
    "\"\"\").show()"
   ]
  },
  {
   "cell_type": "code",
   "execution_count": 36,
   "metadata": {},
   "outputs": [
    {
     "name": "stdout",
     "output_type": "stream",
     "text": [
      "+-------------+---------------------------+\n",
      "|         wage|corr(vl_rend, vl_mgct_obsd)|\n",
      "+-------------+---------------------------+\n",
      "| [0,01, 1000)|       0.005935508907984275|\n",
      "| [1000, 4000)|       0.014047178358049747|\n",
      "|[10000, +Inf)|        0.37485985898903057|\n",
      "|[4000, 10000)|        0.07773607204270204|\n",
      "+-------------+---------------------------+\n",
      "\n"
     ]
    }
   ],
   "source": [
    "spark.sql(\"\"\"\n",
    "    select wage\n",
    "         , corr(vl_rend, vl_mgct_obsd)\n",
    "    from \n",
    "     ( select case \n",
    "                when vl_rend < 1000 then '[0,01, 1000)'\n",
    "                when vl_rend >= 1000 and vl_rend < 4000 then '[1000, 4000)'\n",
    "                when vl_rend >= 4000 and vl_rend < 10000 then '[4000, 10000)'\n",
    "                when vl_rend >= 10000 then '[10000, +Inf)'\n",
    "             end as wage\n",
    "           , vl_mgct_obsd\n",
    "           , vl_rend\n",
    "      from tab_app )\n",
    "    group by wage\n",
    "\"\"\").show()      "
   ]
  },
  {
   "cell_type": "code",
   "execution_count": 147,
   "metadata": {
    "collapsed": true
   },
   "outputs": [],
   "source": [
    "ex = spark.read.format('csv') \\\n",
    "    .option('sep', ',') \\\n",
    "    .option('header', 'True') \\\n",
    "    .option('inferSchema', 'True') \\\n",
    "    .load(my_path + 'dados_ref_ex.csv')\n",
    "ex.createOrReplaceTempView(\"tab_ex\")"
   ]
  },
  {
   "cell_type": "code",
   "execution_count": 148,
   "metadata": {},
   "outputs": [],
   "source": [
    "# remove duplicated info, keeping the most recent per customer.\n",
    "\n",
    "ex = spark.sql(\"\"\"\n",
    "     select A.cd_cpf\n",
    "          , A.vl_ref_ex\n",
    "     from tab_ex A\n",
    "        , (select cd_cpf\n",
    "                , max(dt_ref_ex) as dt_ref_ex\n",
    "           from tab_ex\n",
    "           group by cd_cpf) B\n",
    "     where A.cd_cpf    = B.cd_cpf\n",
    "       and A.dt_ref_ex = B.dt_ref_ex\n",
    "\"\"\")\n",
    "ex.createOrReplaceTempView(\"tab_ex\")"
   ]
  },
  {
   "cell_type": "raw",
   "metadata": {},
   "source": [
    "ex.cache()"
   ]
  },
  {
   "cell_type": "code",
   "execution_count": 149,
   "metadata": {
    "scrolled": false
   },
   "outputs": [],
   "source": [
    "vl_ex = [x for x in spark.sql(\"\"\"\n",
    "    select a.vl_ref_ex\n",
    "    from tab_ex a\n",
    "       , tab_app b\n",
    "    where a.cd_cpf = b.cd_cpf\n",
    "\"\"\").rdd.flatMap(lambda x: x).collect()]"
   ]
  },
  {
   "cell_type": "code",
   "execution_count": 60,
   "metadata": {
    "collapsed": true
   },
   "outputs": [],
   "source": [
    "vl_app = [x for x in app.select('vl_rend').rdd.flatMap(lambda x: x).collect()]"
   ]
  },
  {
   "cell_type": "code",
   "execution_count": 41,
   "metadata": {
    "collapsed": true
   },
   "outputs": [],
   "source": [
    "vl_ex_50 = [v for v in vl_ex if v > 0 and v < 5*10**4]"
   ]
  },
  {
   "cell_type": "code",
   "execution_count": 42,
   "metadata": {
    "collapsed": true
   },
   "outputs": [],
   "source": [
    "vl_app_50 = [v for v in vl_app if v > 0 and v < 5*10**4]"
   ]
  },
  {
   "cell_type": "code",
   "execution_count": 43,
   "metadata": {
    "collapsed": true
   },
   "outputs": [],
   "source": [
    "min_bin = np.min(vl_app_50 + vl_ex_50)"
   ]
  },
  {
   "cell_type": "code",
   "execution_count": 44,
   "metadata": {
    "collapsed": true
   },
   "outputs": [],
   "source": [
    "max_bin = np.max(vl_app_50 + vl_ex_50)"
   ]
  },
  {
   "cell_type": "code",
   "execution_count": 57,
   "metadata": {},
   "outputs": [
    {
     "data": {
      "image/png": "[encoded data removed]",
      "text/plain": [
       "<matplotlib.figure.Figure at 0x7fd99097e450>"
      ]
     },
     "metadata": {},
     "output_type": "display_data"
    }
   ],
   "source": [
    "bins = np.linspace(min_bin, max_bin, 50)\n",
    "\n",
    "fig, ax = plt.subplots(figsize=(10, 5))\n",
    "ax.hist(vl_app_50, bins, alpha=.5 ,label='Actual Income', color='skyblue', log=True)\n",
    "ax.hist(vl_ex_50, bins, alpha=.5, label='Predicted Income', color='lightsalmon', log=True)\n",
    "ax.set_ylabel('Number of Customers (Log)')\n",
    "ax.set_xlabel('Monthly Income (R$)')\n",
    "ax.legend(loc='upper right')\n",
    "# plt.gca().yaxis.set_visible(False)\n",
    "\n",
    "# Turn off tick labels\n",
    "ax.set_yticklabels([])\n",
    "\n",
    "plt.rcParams.update({'font.size': 16})\n",
    "\n",
    "plt.show()"
   ]
  },
  {
   "cell_type": "code",
   "execution_count": 46,
   "metadata": {},
   "outputs": [
    {
     "name": "stdout",
     "output_type": "stream",
     "text": [
      "+-------------+------------------------+\n",
      "|         wage|corr(vl_rend, vl_ref_ex)|\n",
      "+-------------+------------------------+\n",
      "| [0,01, 1000)|    -0.05611598168823669|\n",
      "| [1000, 4000)|     0.14783979314569573|\n",
      "|[10000, +Inf)|    0.029072782238118596|\n",
      "|[4000, 10000)|     0.19662950587824937|\n",
      "+-------------+------------------------+\n",
      "\n"
     ]
    }
   ],
   "source": [
    "spark.sql(\"\"\"\n",
    "    select wage\n",
    "         , corr(vl_rend, vl_ref_ex)\n",
    "    from \n",
    "     ( select case \n",
    "                when vl_rend < 1000 then '[0,01, 1000)'\n",
    "                when vl_rend >= 1000 and vl_rend < 4000 then '[1000, 4000)'\n",
    "                when vl_rend >= 4000 and vl_rend < 10000 then '[4000, 10000)'\n",
    "                when vl_rend >= 10000 then '[10000, +Inf)'\n",
    "             end as wage\n",
    "           , vl_ref_ex\n",
    "           , vl_rend\n",
    "      from (select a.vl_rend, b.vl_ref_ex from tab_app a, tab_ex b where a.cd_cpf = b.cd_cpf) )\n",
    "    group by wage\n",
    "\"\"\").show()     "
   ]
  },
  {
   "cell_type": "code",
   "execution_count": 47,
   "metadata": {},
   "outputs": [
    {
     "name": "stdout",
     "output_type": "stream",
     "text": [
      "+---------------------------------------------------------+\n",
      "|avg((vl_ref_ex / CAST(CAST(vl_rend AS FLOAT) AS DOUBLE)))|\n",
      "+---------------------------------------------------------+\n",
      "|                                      0.40593399759017734|\n",
      "+---------------------------------------------------------+\n",
      "\n"
     ]
    }
   ],
   "source": [
    "spark.sql(\"\"\"\n",
    "    select avg(vl_ref_ex / float(vl_rend))\n",
    "    from (select a.vl_rend\n",
    "               , b.vl_ref_ex \n",
    "          from tab_app a\n",
    "             , tab_ex  b \n",
    "          where a.cd_cpf = b.cd_cpf \n",
    "            and a.vl_rend >= 10000)\n",
    "\"\"\").show()"
   ]
  },
  {
   "cell_type": "code",
   "execution_count": null,
   "metadata": {},
   "outputs": [],
   "source": [
    "spark.sql(\"\"\"\n",
    "    select avg(vl_ref_ex / float(vl_rend))\n",
    "    from (select a.vl_rend\n",
    "               , b.vl_ref_ex \n",
    "          from tab_app a\n",
    "             , tab_ex  b \n",
    "          where a.cd_cpf = b.cd_cpf \n",
    "            and a.vl_rend < 10000)\n",
    "\"\"\").show()"
   ]
  },
  {
   "cell_type": "code",
   "execution_count": null,
   "metadata": {},
   "outputs": [],
   "source": [
    "spark.sql(\"\"\"\n",
    "    select wage\n",
    "         , avg(vl_rend)\n",
    "    from \n",
    "     ( select case \n",
    "                when vl_rend < 1000 then '[0,01, 1000)'\n",
    "                when vl_rend >= 1000 and vl_rend < 4000 then '[1000, 4000)'\n",
    "                when vl_rend >= 4000 and vl_rend < 10000 then '[4000, 10000)'\n",
    "                when vl_rend >= 10000 then '[10000, +Inf)'\n",
    "             end as wage\n",
    "           , vl_rend\n",
    "      from tab_app )\n",
    "    group by wage\n",
    "\"\"\").show()  "
   ]
  },
  {
   "cell_type": "code",
   "execution_count": 90,
   "metadata": {},
   "outputs": [],
   "source": [
    "joinville = [ x for x in app.select('vl_rend') \\\n",
    "                            .where('nm_mun_uor = \"joinville\" and sg_uf_uor = \"sc\"') \\\n",
    "                            .rdd \\\n",
    "                            .flatMap(lambda x: x) \\\n",
    "                            .collect() ]"
   ]
  },
  {
   "cell_type": "code",
   "execution_count": 158,
   "metadata": {
    "scrolled": true
   },
   "outputs": [
    {
     "data": {
      "image/png": "[encoded data removed]",
      "text/plain": [
       "<matplotlib.figure.Figure at 0x7fd961a9ead0>"
      ]
     },
     "metadata": {},
     "output_type": "display_data"
    }
   ],
   "source": [
    "bins = np.linspace(0, 50000, 50)\n",
    "\n",
    "fig, ax = plt.subplots(figsize=(10, 5))\n",
    "ax.hist(vl_app, bins, label='Todos os Clientes', color='skyblue', log=True)\n",
    "ax.hist(joinville, bins, label='Clientes em Joinville (SC)', color='lightsalmon', log=True)\n",
    "ax.set_ylabel(u'Número de Clientes (Log)')\n",
    "ax.set_xlabel('Renda Comprovada (R$)')\n",
    "ax.legend(loc='upper right')\n",
    "# plt.gca().yaxis.set_visible(False)\n",
    "\n",
    "# Turn off tick labels\n",
    "ax.set_yticklabels([])\n",
    "\n",
    "plt.rcParams.update({'font.size': 16})\n",
    "\n",
    "plt.show()"
   ]
  },
  {
   "cell_type": "code",
   "execution_count": 93,
   "metadata": {},
   "outputs": [
    {
     "name": "stdout",
     "output_type": "stream",
     "text": [
      "3514.518991716082 13694.298527957026\n"
     ]
    }
   ],
   "source": [
    "print np.mean(joinville), np.std(joinville)"
   ]
  },
  {
   "cell_type": "code",
   "execution_count": 94,
   "metadata": {},
   "outputs": [
    {
     "name": "stdout",
     "output_type": "stream",
     "text": [
      "4769.042523723583 24901.691122514603\n"
     ]
    }
   ],
   "source": [
    "print np.mean(vl_app), np.std(vl_app)"
   ]
  },
  {
   "cell_type": "code",
   "execution_count": 107,
   "metadata": {},
   "outputs": [
    {
     "name": "stdout",
     "output_type": "stream",
     "text": [
      "43011 2016\n"
     ]
    }
   ],
   "source": [
    "obs_1 = np.sum([1 for x in joinville if x >= 10000])\n",
    "obs_0 = len(joinville) - obs_1\n",
    "\n",
    "print obs_0, obs_1"
   ]
  },
  {
   "cell_type": "code",
   "execution_count": 108,
   "metadata": {},
   "outputs": [
    {
     "name": "stdout",
     "output_type": "stream",
     "text": [
      "40584.281362155096 4442.718637844905\n"
     ]
    }
   ],
   "source": [
    "exp_1 = np.sum([1 for x in vl_app if x >= 10000]) * len(joinville) / np.float(len(vl_app))\n",
    "exp_0 = len(joinville) - exp_1\n",
    "\n",
    "print exp_0, exp_1"
   ]
  },
  {
   "cell_type": "code",
   "execution_count": 106,
   "metadata": {},
   "outputs": [
    {
     "data": {
      "text/plain": [
       "0.0"
      ]
     },
     "execution_count": 106,
     "metadata": {},
     "output_type": "execute_result"
    }
   ],
   "source": [
    "from scipy.stats import chisquare\n",
    "\n",
    "chi, p = chisquare(f_obs=[obs_0, obs_1], f_exp=[exp_0, exp_1])\n",
    "\n",
    "p"
   ]
  },
  {
   "cell_type": "code",
   "execution_count": 125,
   "metadata": {},
   "outputs": [
    {
     "data": {
      "text/plain": [
       "[95.5226863881671, 90.13321198870699]"
      ]
     },
     "execution_count": 125,
     "metadata": {},
     "output_type": "execute_result"
    }
   ],
   "source": [
    "false_rate = [100 * obs_0 / np.float(len(joinville)), 100 * exp_0 / np.float(len(joinville))]\n",
    "false_rate"
   ]
  },
  {
   "cell_type": "code",
   "execution_count": 126,
   "metadata": {},
   "outputs": [
    {
     "data": {
      "text/plain": [
       "[4.4773136118329, 9.866788011293012]"
      ]
     },
     "execution_count": 126,
     "metadata": {},
     "output_type": "execute_result"
    }
   ],
   "source": [
    "true_rate = [100 * obs_1 / np.float(len(joinville)), 100 * exp_1 / np.float(len(joinville))]\n",
    "true_rate"
   ]
  },
  {
   "cell_type": "code",
   "execution_count": 142,
   "metadata": {},
   "outputs": [
    {
     "data": {
      "image/png": "[encoded data removed]",
      "text/plain": [
       "<matplotlib.figure.Figure at 0x7fd9909e2550>"
      ]
     },
     "metadata": {},
     "output_type": "display_data"
    }
   ],
   "source": [
    "# create plot\n",
    "fig, ax = plt.subplots(figsize=(10,5))\n",
    "index = np.arange(2)\n",
    "# bar_width = 0.35\n",
    "opacity = 0.8\n",
    "\n",
    "rects1 = plt.bar(index, false_rate, bar_width,\n",
    "                 alpha=opacity,\n",
    "                 color='skyblue',\n",
    "                 label='Baixa')\n",
    "\n",
    "rects2 = plt.bar(index + bar_width, true_rate, bar_width,\n",
    "                 alpha=opacity,\n",
    "                 color='lightsalmon',\n",
    "                 label='Alta')\n",
    "\n",
    "plt.xlabel(u'Localidade')\n",
    "plt.ylabel(u'Distribuição de Renda (%)')\n",
    "#     plt.title('Scores by person')\n",
    "plt.xticks(index + bar_width, ('Joinville', 'Brasil'))\n",
    "plt.legend(title='Renda', loc='upper right') #, prop={'size': 14})\n",
    "\n",
    "plt.tight_layout()\n",
    "plt.show()"
   ]
  },
  {
   "cell_type": "code",
   "execution_count": 150,
   "metadata": {},
   "outputs": [],
   "source": [
    "jv_ex = [ x for x in spark.sql(\"\"\"\n",
    "    select a.vl_ref_ex \n",
    "    from tab_ex a\n",
    "       , tab_app b\n",
    "    where a.cd_cpf = b.cd_cpf\n",
    "      and b.nm_mun_uor = 'joinville' and b.sg_uf_uor = 'sc'\n",
    "\"\"\").rdd \\\n",
    "    .flatMap(lambda x: x) \\\n",
    "    .collect() ]"
   ]
  },
  {
   "cell_type": "code",
   "execution_count": 153,
   "metadata": {
    "collapsed": true
   },
   "outputs": [],
   "source": [
    "jv_ex_50 = [x for x in jv_ex if x <= 50000]"
   ]
  },
  {
   "cell_type": "code",
   "execution_count": 154,
   "metadata": {},
   "outputs": [],
   "source": [
    "bra_ex = [ x for x in spark.sql(\"\"\"\n",
    "    select a.vl_ref_ex \n",
    "    from tab_ex a\n",
    "       , tab_app b\n",
    "    where a.cd_cpf = b.cd_cpf\n",
    "\"\"\").rdd \\\n",
    "    .flatMap(lambda x: x) \\\n",
    "    .collect() ]"
   ]
  },
  {
   "cell_type": "code",
   "execution_count": 155,
   "metadata": {
    "collapsed": true
   },
   "outputs": [],
   "source": [
    "bra_ex_50 = [x for x in bra_ex if x <= 50000]"
   ]
  },
  {
   "cell_type": "code",
   "execution_count": 157,
   "metadata": {
    "scrolled": true
   },
   "outputs": [
    {
     "data": {
      "image/png": "[encoded data removed]",
      "text/plain": [
       "<matplotlib.figure.Figure at 0x7fd9618d7bd0>"
      ]
     },
     "metadata": {},
     "output_type": "display_data"
    }
   ],
   "source": [
    "bins = np.linspace(0, 30000, 50)\n",
    "\n",
    "fig, ax = plt.subplots(figsize=(10, 5))\n",
    "ax.hist(bra_ex_50, bins, label='Todos os Clientes', color='skyblue', log=True)\n",
    "ax.hist(jv_ex_50, bins, label='Clientes em Joinville (SC)', color='lightsalmon', log=True)\n",
    "ax.set_ylabel(u'Número de Clientes (Log)')\n",
    "ax.set_xlabel('Renda Presumida da Fonte Externa (R$)')\n",
    "ax.legend(loc='upper right')\n",
    "# plt.gca().yaxis.set_visible(False)\n",
    "\n",
    "# Turn off tick labels\n",
    "ax.set_yticklabels([])\n",
    "\n",
    "plt.rcParams.update({'font.size': 16})\n",
    "\n",
    "plt.show()"
   ]
  },
  {
   "cell_type": "code",
   "execution_count": 84,
   "metadata": {
    "collapsed": true
   },
   "outputs": [],
   "source": [
    "sc.stop()"
   ]
  }
 ],
 "metadata": {
  "kernelspec": {
   "display_name": "Python 2",
   "language": "python",
   "name": "python2"
  },
  "language_info": {
   "codemirror_mode": {
    "name": "ipython",
    "version": 2
   },
   "file_extension": ".py",
   "mimetype": "text/x-python",
   "name": "python",
   "nbconvert_exporter": "python",
   "pygments_lexer": "ipython2",
   "version": "2.7.12"
  }
 },
 "nbformat": 4,
 "nbformat_minor": 2
}
