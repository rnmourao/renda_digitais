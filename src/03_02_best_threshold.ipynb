{
 "cells": [
  {
   "cell_type": "code",
   "execution_count": 1,
   "metadata": {
    "collapsed": true,
    "deletable": true,
    "editable": true
   },
   "outputs": [],
   "source": [
    "import pandas as pd\n",
    "import numpy as np\n",
    "from multiprocessing import Pool\n",
    "\n",
    "import h2o\n",
    "from h2o.grid.grid_search import H2OGridSearch\n",
    "from h2o.estimators.gbm import H2OGradientBoostingEstimator\n",
    "from matplotlib import pyplot as plt\n",
    "\n",
    "from sklearn.metrics import confusion_matrix, classification_report"
   ]
  },
  {
   "cell_type": "code",
   "execution_count": 2,
   "metadata": {},
   "outputs": [],
   "source": [
    "def profit_by_row(label, p1, threshold):\n",
    "    total = 0\n",
    "    \n",
    "    predict = 1 if p1 >= threshold else 0\n",
    "        \n",
    "    if label == predict:\n",
    "        if label == 1:\n",
    "            total += MARGIN\n",
    "    else:\n",
    "        if label == 0:\n",
    "            total += -CALL_CENTER_COST\n",
    "    return total "
   ]
  },
  {
   "cell_type": "code",
   "execution_count": 3,
   "metadata": {},
   "outputs": [],
   "source": [
    "# CONSTANTS\n",
    "MY_SEED = 1980\n",
    "MY_PATH = '/media/mourao/BACKUP/renda_presumida/data/'\n",
    "CALL_CENTER_COST = 12.51\n",
    "GROSS_MARGIN = 73.29\n",
    "MARGIN = GROSS_MARGIN - CALL_CENTER_COST"
   ]
  },
  {
   "cell_type": "code",
   "execution_count": 4,
   "metadata": {
    "collapsed": false,
    "deletable": true,
    "editable": true,
    "scrolled": true
   },
   "outputs": [
    {
     "name": "stdout",
     "output_type": "stream",
     "text": [
      "Checking whether there is an H2O instance running at http://localhost:54321..... not found.\n",
      "Attempting to start a local H2O server...\n",
      "  Java Version: openjdk version \"1.8.0_121\"; OpenJDK Runtime Environment (Zulu 8.20.0.5-linux64) (build 1.8.0_121-b15); OpenJDK 64-Bit Server VM (Zulu 8.20.0.5-linux64) (build 25.121-b15, mixed mode)\n",
      "  Starting server from /opt/anaconda3/lib/python3.6/site-packages/h2o/backend/bin/h2o.jar\n",
      "  Ice root: /tmp/tmpe1ppuw_w\n",
      "  JVM stdout: /tmp/tmpe1ppuw_w/h2o_mourao_started_from_python.out\n",
      "  JVM stderr: /tmp/tmpe1ppuw_w/h2o_mourao_started_from_python.err\n",
      "  Server is running at http://127.0.0.1:54321\n",
      "Connecting to H2O server at http://127.0.0.1:54321... successful.\n",
      "Warning: Your H2O cluster version is too old (6 months and 10 days)! Please download and install the latest version from http://h2o.ai/download/\n"
     ]
    },
    {
     "data": {
      "text/html": [
       "<div style=\"overflow:auto\"><table style=\"width:50%\"><tr><td>H2O cluster uptime:</td>\n",
       "<td>01 secs</td></tr>\n",
       "<tr><td>H2O cluster timezone:</td>\n",
       "<td>America/Sao_Paulo</td></tr>\n",
       "<tr><td>H2O data parsing timezone:</td>\n",
       "<td>UTC</td></tr>\n",
       "<tr><td>H2O cluster version:</td>\n",
       "<td>3.20.0.4</td></tr>\n",
       "<tr><td>H2O cluster version age:</td>\n",
       "<td>6 months and 10 days !!!</td></tr>\n",
       "<tr><td>H2O cluster name:</td>\n",
       "<td>H2O_from_python_mourao_4l7100</td></tr>\n",
       "<tr><td>H2O cluster total nodes:</td>\n",
       "<td>1</td></tr>\n",
       "<tr><td>H2O cluster free memory:</td>\n",
       "<td>21.33 Gb</td></tr>\n",
       "<tr><td>H2O cluster total cores:</td>\n",
       "<td>8</td></tr>\n",
       "<tr><td>H2O cluster allowed cores:</td>\n",
       "<td>8</td></tr>\n",
       "<tr><td>H2O cluster status:</td>\n",
       "<td>accepting new members, healthy</td></tr>\n",
       "<tr><td>H2O connection url:</td>\n",
       "<td>http://127.0.0.1:54321</td></tr>\n",
       "<tr><td>H2O connection proxy:</td>\n",
       "<td>None</td></tr>\n",
       "<tr><td>H2O internal security:</td>\n",
       "<td>False</td></tr>\n",
       "<tr><td>H2O API Extensions:</td>\n",
       "<td>XGBoost, Algos, AutoML, Core V3, Core V4</td></tr>\n",
       "<tr><td>Python version:</td>\n",
       "<td>3.6.5 final</td></tr></table></div>"
      ],
      "text/plain": [
       "--------------------------  ----------------------------------------\n",
       "H2O cluster uptime:         01 secs\n",
       "H2O cluster timezone:       America/Sao_Paulo\n",
       "H2O data parsing timezone:  UTC\n",
       "H2O cluster version:        3.20.0.4\n",
       "H2O cluster version age:    6 months and 10 days !!!\n",
       "H2O cluster name:           H2O_from_python_mourao_4l7100\n",
       "H2O cluster total nodes:    1\n",
       "H2O cluster free memory:    21.33 Gb\n",
       "H2O cluster total cores:    8\n",
       "H2O cluster allowed cores:  8\n",
       "H2O cluster status:         accepting new members, healthy\n",
       "H2O connection url:         http://127.0.0.1:54321\n",
       "H2O connection proxy:\n",
       "H2O internal security:      False\n",
       "H2O API Extensions:         XGBoost, Algos, AutoML, Core V3, Core V4\n",
       "Python version:             3.6.5 final\n",
       "--------------------------  ----------------------------------------"
      ]
     },
     "metadata": {},
     "output_type": "display_data"
    }
   ],
   "source": [
    "try:\n",
    "    h2o.cluster().shutdown()\n",
    "except AttributeError:\n",
    "    pass\n",
    "    \n",
    "h2o.init(nthreads = -1,\n",
    "         max_mem_size = \"24G\")"
   ]
  },
  {
   "cell_type": "code",
   "execution_count": 5,
   "metadata": {
    "collapsed": false,
    "deletable": true,
    "editable": true
   },
   "outputs": [
    {
     "name": "stdout",
     "output_type": "stream",
     "text": [
      "Parse progress: |█████████████████████████████████████████████████████████| 100%\n",
      "Parse progress: |█████████████████████████████████████████████████████████| 100%\n"
     ]
    }
   ],
   "source": [
    "# read data\n",
    "train = h2o.import_file(MY_PATH + 'c5_e3_1_train_under.csv')\n",
    "test = h2o.import_file(MY_PATH + 'c5_e3_1_test.csv')"
   ]
  },
  {
   "cell_type": "code",
   "execution_count": 6,
   "metadata": {
    "collapsed": true,
    "deletable": true,
    "editable": true
   },
   "outputs": [],
   "source": [
    "# changing label to factor informs to H2O that the problem is solved by classification.\n",
    "train['label'] = train['label'].asfactor()\n",
    "test['label'] = test['label'].asfactor()"
   ]
  },
  {
   "cell_type": "code",
   "execution_count": 7,
   "metadata": {
    "collapsed": true,
    "deletable": true,
    "editable": true
   },
   "outputs": [],
   "source": [
    "# list of features\n",
    "features = test.columns\n",
    "features = [x for x in features if x not in ['label', 'base_guess', 'ltv']]"
   ]
  },
  {
   "cell_type": "code",
   "execution_count": 8,
   "metadata": {},
   "outputs": [
    {
     "name": "stdout",
     "output_type": "stream",
     "text": [
      "gbm Grid Build progress: |████████████████████████████████████████████████| 100%\n",
      "    col_sample_rate_change_per_level col_sample_rate_per_tree learn_rate  \\\n",
      "0                                2.0                      1.0        0.5   \n",
      "\n",
      "  max_depth min_rows min_split_improvement ntrees sample_rate  \\\n",
      "0        20    500.0                1.0E-5     20         1.0   \n",
      "\n",
      "            model_ids                  f1  \n",
      "0  gbm_grid_3_model_0  0.8692412487671489  \n",
      "\n",
      "\n",
      "ModelMetricsBinomial: gbm\n",
      "** Reported on test data. **\n",
      "\n",
      "MSE: 0.11372964170787327\n",
      "RMSE: 0.3372382565900157\n",
      "LogLoss: 0.35691074746251233\n",
      "Mean Per-Class Error: 0.14148325187584776\n",
      "AUC: 0.9328396811994358\n",
      "Gini: 0.8656793623988717\n",
      "Confusion Matrix (Act/Pred) for max f1 @ threshold = 0.8230790389427247: \n"
     ]
    },
    {
     "data": {
      "text/html": [
       "<div style=\"overflow:auto\"><table style=\"width:50%\"><tr><td><b></b></td>\n",
       "<td><b>0</b></td>\n",
       "<td><b>1</b></td>\n",
       "<td><b>Error</b></td>\n",
       "<td><b>Rate</b></td></tr>\n",
       "<tr><td>0</td>\n",
       "<td>2419152.0</td>\n",
       "<td>137396.0</td>\n",
       "<td>0.0537</td>\n",
       "<td> (137396.0/2556548.0)</td></tr>\n",
       "<tr><td>1</td>\n",
       "<td>99519.0</td>\n",
       "<td>196394.0</td>\n",
       "<td>0.3363</td>\n",
       "<td> (99519.0/295913.0)</td></tr>\n",
       "<tr><td>Total</td>\n",
       "<td>2518671.0</td>\n",
       "<td>333790.0</td>\n",
       "<td>0.0831</td>\n",
       "<td> (236915.0/2852461.0)</td></tr></table></div>"
      ],
      "text/plain": [
       "       0            1       Error    Rate\n",
       "-----  -----------  ------  -------  --------------------\n",
       "0      2.41915e+06  137396  0.0537   (137396.0/2556548.0)\n",
       "1      99519        196394  0.3363   (99519.0/295913.0)\n",
       "Total  2.51867e+06  333790  0.0831   (236915.0/2852461.0)"
      ]
     },
     "metadata": {},
     "output_type": "display_data"
    },
    {
     "name": "stdout",
     "output_type": "stream",
     "text": [
      "Maximum Metrics: Maximum metrics at their respective thresholds\n",
      "\n"
     ]
    },
    {
     "data": {
      "text/html": [
       "<div style=\"overflow:auto\"><table style=\"width:50%\"><tr><td><b>metric</b></td>\n",
       "<td><b>threshold</b></td>\n",
       "<td><b>value</b></td>\n",
       "<td><b>idx</b></td></tr>\n",
       "<tr><td>max f1</td>\n",
       "<td>0.8230790</td>\n",
       "<td>0.6237671</td>\n",
       "<td>71.0</td></tr>\n",
       "<tr><td>max f2</td>\n",
       "<td>0.5990501</td>\n",
       "<td>0.7053930</td>\n",
       "<td>143.0</td></tr>\n",
       "<tr><td>max f0point5</td>\n",
       "<td>0.9172037</td>\n",
       "<td>0.6480872</td>\n",
       "<td>36.0</td></tr>\n",
       "<tr><td>max accuracy</td>\n",
       "<td>0.9125193</td>\n",
       "<td>0.9256950</td>\n",
       "<td>38.0</td></tr>\n",
       "<tr><td>max precision</td>\n",
       "<td>0.9963973</td>\n",
       "<td>0.9847946</td>\n",
       "<td>0.0</td></tr>\n",
       "<tr><td>max recall</td>\n",
       "<td>0.0030502</td>\n",
       "<td>1.0</td>\n",
       "<td>399.0</td></tr>\n",
       "<tr><td>max specificity</td>\n",
       "<td>0.9963973</td>\n",
       "<td>0.9999699</td>\n",
       "<td>0.0</td></tr>\n",
       "<tr><td>max absolute_mcc</td>\n",
       "<td>0.8230790</td>\n",
       "<td>0.5785990</td>\n",
       "<td>71.0</td></tr>\n",
       "<tr><td>max min_per_class_accuracy</td>\n",
       "<td>0.5632767</td>\n",
       "<td>0.8570158</td>\n",
       "<td>155.0</td></tr>\n",
       "<tr><td>max mean_per_class_accuracy</td>\n",
       "<td>0.5178652</td>\n",
       "<td>0.8585167</td>\n",
       "<td>171.0</td></tr></table></div>"
      ],
      "text/plain": [
       "metric                       threshold    value     idx\n",
       "---------------------------  -----------  --------  -----\n",
       "max f1                       0.823079     0.623767  71\n",
       "max f2                       0.59905      0.705393  143\n",
       "max f0point5                 0.917204     0.648087  36\n",
       "max accuracy                 0.912519     0.925695  38\n",
       "max precision                0.996397     0.984795  0\n",
       "max recall                   0.00305024   1         399\n",
       "max specificity              0.996397     0.99997   0\n",
       "max absolute_mcc             0.823079     0.578599  71\n",
       "max min_per_class_accuracy   0.563277     0.857016  155\n",
       "max mean_per_class_accuracy  0.517865     0.858517  171"
      ]
     },
     "metadata": {},
     "output_type": "display_data"
    },
    {
     "name": "stdout",
     "output_type": "stream",
     "text": [
      "Gains/Lift Table: Avg response rate: 10,37 %, avg score: 27,46 %\n",
      "\n"
     ]
    },
    {
     "data": {
      "text/html": [
       "<div style=\"overflow:auto\"><table style=\"width:50%\"><tr><td><b></b></td>\n",
       "<td><b>group</b></td>\n",
       "<td><b>cumulative_data_fraction</b></td>\n",
       "<td><b>lower_threshold</b></td>\n",
       "<td><b>lift</b></td>\n",
       "<td><b>cumulative_lift</b></td>\n",
       "<td><b>response_rate</b></td>\n",
       "<td><b>score</b></td>\n",
       "<td><b>cumulative_response_rate</b></td>\n",
       "<td><b>cumulative_score</b></td>\n",
       "<td><b>capture_rate</b></td>\n",
       "<td><b>cumulative_capture_rate</b></td>\n",
       "<td><b>gain</b></td>\n",
       "<td><b>cumulative_gain</b></td></tr>\n",
       "<tr><td></td>\n",
       "<td>1</td>\n",
       "<td>0.0100001</td>\n",
       "<td>0.9861783</td>\n",
       "<td>8.9548745</td>\n",
       "<td>8.9548745</td>\n",
       "<td>0.9289746</td>\n",
       "<td>0.9915968</td>\n",
       "<td>0.9289746</td>\n",
       "<td>0.9915968</td>\n",
       "<td>0.0895500</td>\n",
       "<td>0.0895500</td>\n",
       "<td>795.4874473</td>\n",
       "<td>795.4874473</td></tr>\n",
       "<tr><td></td>\n",
       "<td>2</td>\n",
       "<td>0.0200003</td>\n",
       "<td>0.9760924</td>\n",
       "<td>8.0522566</td>\n",
       "<td>8.5035656</td>\n",
       "<td>0.8353374</td>\n",
       "<td>0.9811368</td>\n",
       "<td>0.8821560</td>\n",
       "<td>0.9863668</td>\n",
       "<td>0.0805237</td>\n",
       "<td>0.1700736</td>\n",
       "<td>705.2256649</td>\n",
       "<td>750.3565561</td></tr>\n",
       "<tr><td></td>\n",
       "<td>3</td>\n",
       "<td>0.0300001</td>\n",
       "<td>0.9657081</td>\n",
       "<td>7.3296759</td>\n",
       "<td>8.1122782</td>\n",
       "<td>0.7603772</td>\n",
       "<td>0.9709299</td>\n",
       "<td>0.8415640</td>\n",
       "<td>0.9812213</td>\n",
       "<td>0.0732952</td>\n",
       "<td>0.2433688</td>\n",
       "<td>632.9675895</td>\n",
       "<td>711.2278151</td></tr>\n",
       "<tr><td></td>\n",
       "<td>4</td>\n",
       "<td>0.0400002</td>\n",
       "<td>0.9546958</td>\n",
       "<td>6.7282369</td>\n",
       "<td>7.7662648</td>\n",
       "<td>0.6979842</td>\n",
       "<td>0.9602680</td>\n",
       "<td>0.8056688</td>\n",
       "<td>0.9759829</td>\n",
       "<td>0.0672833</td>\n",
       "<td>0.3106521</td>\n",
       "<td>572.8236943</td>\n",
       "<td>676.6264816</td></tr>\n",
       "<tr><td></td>\n",
       "<td>5</td>\n",
       "<td>0.0500003</td>\n",
       "<td>0.9424791</td>\n",
       "<td>6.1135376</td>\n",
       "<td>7.4357171</td>\n",
       "<td>0.6342156</td>\n",
       "<td>0.9487000</td>\n",
       "<td>0.7713779</td>\n",
       "<td>0.9705263</td>\n",
       "<td>0.0611362</td>\n",
       "<td>0.3717883</td>\n",
       "<td>511.3537647</td>\n",
       "<td>643.5717065</td></tr>\n",
       "<tr><td></td>\n",
       "<td>6</td>\n",
       "<td>0.1000003</td>\n",
       "<td>0.8593707</td>\n",
       "<td>4.6973958</td>\n",
       "<td>6.0665612</td>\n",
       "<td>0.4873057</td>\n",
       "<td>0.9041559</td>\n",
       "<td>0.6293423</td>\n",
       "<td>0.9373412</td>\n",
       "<td>0.2348697</td>\n",
       "<td>0.6066580</td>\n",
       "<td>369.7395813</td>\n",
       "<td>506.6561239</td></tr>\n",
       "<tr><td></td>\n",
       "<td>7</td>\n",
       "<td>0.1500003</td>\n",
       "<td>0.7431204</td>\n",
       "<td>2.8575977</td>\n",
       "<td>4.9969092</td>\n",
       "<td>0.2964459</td>\n",
       "<td>0.8033939</td>\n",
       "<td>0.5183771</td>\n",
       "<td>0.8926922</td>\n",
       "<td>0.1428798</td>\n",
       "<td>0.7495379</td>\n",
       "<td>185.7597660</td>\n",
       "<td>399.6909213</td></tr>\n",
       "<tr><td></td>\n",
       "<td>8</td>\n",
       "<td>0.2000003</td>\n",
       "<td>0.6082199</td>\n",
       "<td>1.7342941</td>\n",
       "<td>4.1812569</td>\n",
       "<td>0.1799149</td>\n",
       "<td>0.6762191</td>\n",
       "<td>0.4337617</td>\n",
       "<td>0.8385740</td>\n",
       "<td>0.0867147</td>\n",
       "<td>0.8362525</td>\n",
       "<td>73.4294133</td>\n",
       "<td>318.1256873</td></tr>\n",
       "<tr><td></td>\n",
       "<td>9</td>\n",
       "<td>0.3000002</td>\n",
       "<td>0.3631328</td>\n",
       "<td>0.8964124</td>\n",
       "<td>3.0863100</td>\n",
       "<td>0.0929934</td>\n",
       "<td>0.4797812</td>\n",
       "<td>0.3201724</td>\n",
       "<td>0.7189766</td>\n",
       "<td>0.0896412</td>\n",
       "<td>0.9258938</td>\n",
       "<td>-10.3587565</td>\n",
       "<td>208.6310006</td></tr>\n",
       "<tr><td></td>\n",
       "<td>10</td>\n",
       "<td>0.4000002</td>\n",
       "<td>0.2007606</td>\n",
       "<td>0.3853499</td>\n",
       "<td>2.4110706</td>\n",
       "<td>0.0399760</td>\n",
       "<td>0.2749536</td>\n",
       "<td>0.2501234</td>\n",
       "<td>0.6079709</td>\n",
       "<td>0.0385350</td>\n",
       "<td>0.9644287</td>\n",
       "<td>-61.4650117</td>\n",
       "<td>141.1070567</td></tr>\n",
       "<tr><td></td>\n",
       "<td>11</td>\n",
       "<td>0.5000002</td>\n",
       "<td>0.1078478</td>\n",
       "<td>0.1868117</td>\n",
       "<td>1.9662191</td>\n",
       "<td>0.0193798</td>\n",
       "<td>0.1497255</td>\n",
       "<td>0.2039747</td>\n",
       "<td>0.5163219</td>\n",
       "<td>0.0186812</td>\n",
       "<td>0.9831099</td>\n",
       "<td>-81.3188270</td>\n",
       "<td>96.6219112</td></tr>\n",
       "<tr><td></td>\n",
       "<td>12</td>\n",
       "<td>0.6000001</td>\n",
       "<td>0.0576580</td>\n",
       "<td>0.0916486</td>\n",
       "<td>1.6537909</td>\n",
       "<td>0.0095076</td>\n",
       "<td>0.0801569</td>\n",
       "<td>0.1715635</td>\n",
       "<td>0.4436278</td>\n",
       "<td>0.0091649</td>\n",
       "<td>0.9922748</td>\n",
       "<td>-90.8351409</td>\n",
       "<td>65.3790874</td></tr>\n",
       "<tr><td></td>\n",
       "<td>13</td>\n",
       "<td>0.7000001</td>\n",
       "<td>0.0307786</td>\n",
       "<td>0.0427491</td>\n",
       "<td>1.4236422</td>\n",
       "<td>0.0044348</td>\n",
       "<td>0.0428138</td>\n",
       "<td>0.1476880</td>\n",
       "<td>0.3863687</td>\n",
       "<td>0.0042749</td>\n",
       "<td>0.9965497</td>\n",
       "<td>-95.7250934</td>\n",
       "<td>42.3642160</td></tr>\n",
       "<tr><td></td>\n",
       "<td>14</td>\n",
       "<td>0.8000001</td>\n",
       "<td>0.0165850</td>\n",
       "<td>0.0204114</td>\n",
       "<td>1.2482384</td>\n",
       "<td>0.0021175</td>\n",
       "<td>0.0229313</td>\n",
       "<td>0.1294917</td>\n",
       "<td>0.3409390</td>\n",
       "<td>0.0020411</td>\n",
       "<td>0.9985908</td>\n",
       "<td>-97.9588588</td>\n",
       "<td>24.8238393</td></tr>\n",
       "<tr><td></td>\n",
       "<td>15</td>\n",
       "<td>0.9000000</td>\n",
       "<td>0.0088943</td>\n",
       "<td>0.0108816</td>\n",
       "<td>1.1107544</td>\n",
       "<td>0.0011289</td>\n",
       "<td>0.0123801</td>\n",
       "<td>0.1152291</td>\n",
       "<td>0.3044325</td>\n",
       "<td>0.0010882</td>\n",
       "<td>0.9996790</td>\n",
       "<td>-98.9118420</td>\n",
       "<td>11.0754356</td></tr>\n",
       "<tr><td></td>\n",
       "<td>16</td>\n",
       "<td>1.0</td>\n",
       "<td>0.0013427</td>\n",
       "<td>0.0032104</td>\n",
       "<td>1.0</td>\n",
       "<td>0.0003330</td>\n",
       "<td>0.0060208</td>\n",
       "<td>0.1037395</td>\n",
       "<td>0.2745913</td>\n",
       "<td>0.0003210</td>\n",
       "<td>1.0</td>\n",
       "<td>-99.6789596</td>\n",
       "<td>0.0</td></tr></table></div>"
      ],
      "text/plain": [
       "    group    cumulative_data_fraction    lower_threshold    lift       cumulative_lift    response_rate    score      cumulative_response_rate    cumulative_score    capture_rate    cumulative_capture_rate    gain      cumulative_gain\n",
       "--  -------  --------------------------  -----------------  ---------  -----------------  ---------------  ---------  --------------------------  ------------------  --------------  -------------------------  --------  -----------------\n",
       "    1        0.0100001                   0.986178           8.95487    8.95487            0.928975         0.991597   0.928975                    0.991597            0.08955         0.08955                    795.487   795.487\n",
       "    2        0.0200003                   0.976092           8.05226    8.50357            0.835337         0.981137   0.882156                    0.986367            0.0805237       0.170074                   705.226   750.357\n",
       "    3        0.0300001                   0.965708           7.32968    8.11228            0.760377         0.97093    0.841564                    0.981221            0.0732952       0.243369                   632.968   711.228\n",
       "    4        0.0400002                   0.954696           6.72824    7.76626            0.697984         0.960268   0.805669                    0.975983            0.0672833       0.310652                   572.824   676.626\n",
       "    5        0.0500003                   0.942479           6.11354    7.43572            0.634216         0.9487     0.771378                    0.970526            0.0611362       0.371788                   511.354   643.572\n",
       "    6        0.1                         0.859371           4.6974     6.06656            0.487306         0.904156   0.629342                    0.937341            0.23487         0.606658                   369.74    506.656\n",
       "    7        0.15                        0.74312            2.8576     4.99691            0.296446         0.803394   0.518377                    0.892692            0.14288         0.749538                   185.76    399.691\n",
       "    8        0.2                         0.60822            1.73429    4.18126            0.179915         0.676219   0.433762                    0.838574            0.0867147       0.836253                   73.4294   318.126\n",
       "    9        0.3                         0.363133           0.896412   3.08631            0.0929934        0.479781   0.320172                    0.718977            0.0896412       0.925894                   -10.3588  208.631\n",
       "    10       0.4                         0.200761           0.38535    2.41107            0.039976         0.274954   0.250123                    0.607971            0.038535        0.964429                   -61.465   141.107\n",
       "    11       0.5                         0.107848           0.186812   1.96622            0.0193798        0.149726   0.203975                    0.516322            0.0186812       0.98311                    -81.3188  96.6219\n",
       "    12       0.6                         0.057658           0.0916486  1.65379            0.00950758       0.0801569  0.171564                    0.443628            0.00916486      0.992275                   -90.8351  65.3791\n",
       "    13       0.7                         0.0307786          0.0427491  1.42364            0.00443477       0.0428138  0.147688                    0.386369            0.00427491      0.99655                    -95.7251  42.3642\n",
       "    14       0.8                         0.016585           0.0204114  1.24824            0.00211747       0.0229313  0.129492                    0.340939            0.00204114      0.998591                   -97.9589  24.8238\n",
       "    15       0.9                         0.0088943          0.0108816  1.11075            0.00112885       0.0123801  0.115229                    0.304432            0.00108816      0.999679                   -98.9118  11.0754\n",
       "    16       1                           0.00134265         0.0032104  1                  0.000333046      0.0060208  0.10374                     0.274591            0.00032104      1                          -99.679   0"
      ]
     },
     "metadata": {},
     "output_type": "display_data"
    },
    {
     "name": "stdout",
     "output_type": "stream",
     "text": [
      "\n",
      "\n"
     ]
    },
    {
     "data": {
      "image/png": "[encoded data removed]",
      "text/plain": [
       "<Figure size 432x288 with 1 Axes>"
      ]
     },
     "metadata": {},
     "output_type": "display_data"
    }
   ],
   "source": [
    "# Gradient Boosting Machine (GBM) - Final\n",
    "\n",
    "# GBM hyperparameters\n",
    "hyper_par    = { \n",
    "                 'ntrees' :  [20],\n",
    "                 'learn_rate' : [.5],\n",
    "                 'max_depth' : [20],\n",
    "                 'sample_rate' : [1.],\n",
    "                 'col_sample_rate_per_tree' : [1.],\n",
    "                 'min_split_improvement' : [1e-5],\n",
    "                 'col_sample_rate_change_per_level' : [2],\n",
    "                 'min_rows' : [500]\n",
    "               }\n",
    "\n",
    "# Train and validate a cartesian grid of GBMs\n",
    "gbm_grid = H2OGridSearch(model=H2OGradientBoostingEstimator(seed=MY_SEED, \n",
    "                                                            nfolds=5,\n",
    "                                                            fold_assignment='Modulo'),\n",
    "                          grid_id='gbm_grid_3',\n",
    "                          hyper_params=hyper_par)\n",
    "gbm_grid.train(x=features, \n",
    "               y='label', \n",
    "               training_frame=train)\n",
    "\n",
    "# Get the grid results, sorted by validation F1-Measure\n",
    "gbm_gridperf1 = gbm_grid.get_grid(sort_by='F1', decreasing=True)\n",
    "print(gbm_gridperf1)\n",
    "\n",
    "# Grab the top GBM model, chosen by validation F1\n",
    "best_gbm = gbm_gridperf1.models[0]\n",
    "\n",
    "# Now let's evaluate the model performance on a test set\n",
    "# so we get an honest estimate of top model performance\n",
    "best_gbm_perf1 = best_gbm.model_performance(test)\n",
    "print(best_gbm_perf1)\n",
    "\n",
    "best_gbm_perf1.plot();"
   ]
  },
  {
   "cell_type": "code",
   "execution_count": 9,
   "metadata": {},
   "outputs": [
    {
     "name": "stdout",
     "output_type": "stream",
     "text": [
      "gbm prediction progress: |████████████████████████████████████████████████| 100%\n"
     ]
    }
   ],
   "source": [
    "predictions = best_gbm.predict(test)"
   ]
  },
  {
   "cell_type": "code",
   "execution_count": 10,
   "metadata": {},
   "outputs": [],
   "source": [
    "df_h2o = test.cbind(predictions)\n",
    "df_h2o = df_h2o[:, ['label', 'p1']]\n",
    "df = df_h2o.as_data_frame()"
   ]
  },
  {
   "cell_type": "code",
   "execution_count": 11,
   "metadata": {},
   "outputs": [],
   "source": [
    "df.to_csv('data/c7_e5_predictions.csv', index=False)"
   ]
  },
  {
   "cell_type": "code",
   "execution_count": 12,
   "metadata": {
    "collapsed": false,
    "deletable": true,
    "editable": true
   },
   "outputs": [
    {
     "name": "stdout",
     "output_type": "stream",
     "text": [
      "H2O session _sid_b354 closed.\n"
     ]
    }
   ],
   "source": [
    "h2o.cluster().shutdown()"
   ]
  },
  {
   "cell_type": "code",
   "execution_count": 13,
   "metadata": {},
   "outputs": [],
   "source": [
    "def calculate_profits_by_threshold(th):\n",
    "    # calculate profits based on new threshold\n",
    "    profits = df.apply(lambda x : profit_by_row(label=x.label, p1=x.p1, threshold=th), axis=1)\n",
    "    \n",
    "    # save information\n",
    "    return { 'threshold' : th, 'profit': profits.sum() } "
   ]
  },
  {
   "cell_type": "code",
   "execution_count": 14,
   "metadata": {},
   "outputs": [],
   "source": [
    "thresholds = list(np.arange(0.01, 1, 0.01))"
   ]
  },
  {
   "cell_type": "code",
   "execution_count": 15,
   "metadata": {},
   "outputs": [],
   "source": [
    "with Pool(5) as p:\n",
    "    profits_by_threshold = p.map(calculate_profits_by_threshold, thresholds)"
   ]
  },
  {
   "cell_type": "code",
   "execution_count": 16,
   "metadata": {},
   "outputs": [],
   "source": [
    "profits_df = pd.DataFrame(profits_by_threshold)"
   ]
  },
  {
   "cell_type": "code",
   "execution_count": 17,
   "metadata": {},
   "outputs": [
    {
     "data": {
      "text/html": [
       "<div>\n",
       "<style scoped>\n",
       "    .dataframe tbody tr th:only-of-type {\n",
       "        vertical-align: middle;\n",
       "    }\n",
       "\n",
       "    .dataframe tbody tr th {\n",
       "        vertical-align: top;\n",
       "    }\n",
       "\n",
       "    .dataframe thead th {\n",
       "        text-align: right;\n",
       "    }\n",
       "</style>\n",
       "<table border=\"1\" class=\"dataframe\">\n",
       "  <thead>\n",
       "    <tr style=\"text-align: right;\">\n",
       "      <th></th>\n",
       "      <th>profit</th>\n",
       "      <th>threshold</th>\n",
       "    </tr>\n",
       "  </thead>\n",
       "  <tbody>\n",
       "    <tr>\n",
       "      <th>0</th>\n",
       "      <td>-9792554.28</td>\n",
       "      <td>0.01</td>\n",
       "    </tr>\n",
       "    <tr>\n",
       "      <th>1</th>\n",
       "      <td>-5816871.45</td>\n",
       "      <td>0.02</td>\n",
       "    </tr>\n",
       "    <tr>\n",
       "      <th>2</th>\n",
       "      <td>-3511739.31</td>\n",
       "      <td>0.03</td>\n",
       "    </tr>\n",
       "    <tr>\n",
       "      <th>3</th>\n",
       "      <td>-1905947.58</td>\n",
       "      <td>0.04</td>\n",
       "    </tr>\n",
       "    <tr>\n",
       "      <th>4</th>\n",
       "      <td>-674331.48</td>\n",
       "      <td>0.05</td>\n",
       "    </tr>\n",
       "  </tbody>\n",
       "</table>\n",
       "</div>"
      ],
      "text/plain": [
       "       profit  threshold\n",
       "0 -9792554.28       0.01\n",
       "1 -5816871.45       0.02\n",
       "2 -3511739.31       0.03\n",
       "3 -1905947.58       0.04\n",
       "4  -674331.48       0.05"
      ]
     },
     "execution_count": 17,
     "metadata": {},
     "output_type": "execute_result"
    }
   ],
   "source": [
    "profits_df.head()"
   ]
  },
  {
   "cell_type": "code",
   "execution_count": 18,
   "metadata": {},
   "outputs": [],
   "source": [
    "max_profit_threshold = profits_df.loc[profits_df.profit == profits_df.profit.max(), 'threshold'].values[0]"
   ]
  },
  {
   "cell_type": "code",
   "execution_count": 19,
   "metadata": {},
   "outputs": [
    {
     "data": {
      "text/plain": [
       "0.67"
      ]
     },
     "execution_count": 19,
     "metadata": {},
     "output_type": "execute_result"
    }
   ],
   "source": [
    "max_profit_threshold"
   ]
  },
  {
   "cell_type": "code",
   "execution_count": 20,
   "metadata": {},
   "outputs": [],
   "source": [
    "max_profit = profits_df.loc[profits_df.threshold == max_profit_threshold, 'profit'].values[0]"
   ]
  },
  {
   "cell_type": "code",
   "execution_count": 21,
   "metadata": {},
   "outputs": [
    {
     "data": {
      "text/plain": [
       "'11,071,515.87'"
      ]
     },
     "execution_count": 21,
     "metadata": {},
     "output_type": "execute_result"
    }
   ],
   "source": [
    "\"{:,.2f}\".format(max_profit)"
   ]
  },
  {
   "cell_type": "code",
   "execution_count": 22,
   "metadata": {},
   "outputs": [
    {
     "data": {
      "image/png": "[encoded data removed]",
      "text/plain": [
       "<Figure size 432x288 with 1 Axes>"
      ]
     },
     "metadata": {},
     "output_type": "display_data"
    }
   ],
   "source": [
    "# multiple line plot\n",
    "plt.plot(profits_df['threshold'], profits_df['profit'], color='skyblue')\n",
    "plt.plot(profits_df['threshold'], [max_profit]  * len(profits_df), 'r--')\n",
    "plt.title('Profit by Threshold')\n",
    "plt.ylabel('Profit (R$)')\n",
    "plt.xlabel('Threshold')\n",
    "plt.legend(['Profits', 'Maximum Profit'])\n",
    "plt.show()"
   ]
  },
  {
   "cell_type": "code",
   "execution_count": 23,
   "metadata": {},
   "outputs": [],
   "source": [
    "df['predict'] = 0\n",
    "df.loc[df.p1 >= max_profit_threshold, 'predict'] = 1"
   ]
  },
  {
   "cell_type": "code",
   "execution_count": 24,
   "metadata": {},
   "outputs": [
    {
     "data": {
      "text/html": [
       "<div>\n",
       "<style scoped>\n",
       "    .dataframe tbody tr th:only-of-type {\n",
       "        vertical-align: middle;\n",
       "    }\n",
       "\n",
       "    .dataframe tbody tr th {\n",
       "        vertical-align: top;\n",
       "    }\n",
       "\n",
       "    .dataframe thead th {\n",
       "        text-align: right;\n",
       "    }\n",
       "</style>\n",
       "<table border=\"1\" class=\"dataframe\">\n",
       "  <thead>\n",
       "    <tr style=\"text-align: right;\">\n",
       "      <th></th>\n",
       "      <th>0</th>\n",
       "      <th>1</th>\n",
       "    </tr>\n",
       "  </thead>\n",
       "  <tbody>\n",
       "    <tr>\n",
       "      <th>0</th>\n",
       "      <td>2287849</td>\n",
       "      <td>268699</td>\n",
       "    </tr>\n",
       "    <tr>\n",
       "      <th>1</th>\n",
       "      <td>58451</td>\n",
       "      <td>237462</td>\n",
       "    </tr>\n",
       "  </tbody>\n",
       "</table>\n",
       "</div>"
      ],
      "text/plain": [
       "         0       1\n",
       "0  2287849  268699\n",
       "1    58451  237462"
      ]
     },
     "execution_count": 24,
     "metadata": {},
     "output_type": "execute_result"
    }
   ],
   "source": [
    "pd.DataFrame(confusion_matrix(df.label, df.predict))"
   ]
  },
  {
   "cell_type": "code",
   "execution_count": 25,
   "metadata": {},
   "outputs": [
    {
     "name": "stdout",
     "output_type": "stream",
     "text": [
      "             precision    recall  f1-score   support\n",
      "\n",
      "          0       0.98      0.89      0.93   2556548\n",
      "          1       0.47      0.80      0.59    295913\n",
      "\n",
      "avg / total       0.92      0.89      0.90   2852461\n",
      "\n"
     ]
    }
   ],
   "source": [
    "print(classification_report(df.label, df.predict))"
   ]
  },
  {
   "cell_type": "code",
   "execution_count": 26,
   "metadata": {},
   "outputs": [],
   "source": [
    "profits_df.to_csv('data/c7_e5_profits_by_threshold.csv', index=False)"
   ]
  },
  {
   "cell_type": "code",
   "execution_count": 27,
   "metadata": {},
   "outputs": [],
   "source": [
    "metrics_thresholds = {'f1': 0.82, 'f2': 0.60, 'f0.5': 0.92, 'accuracy': 0.91}"
   ]
  },
  {
   "cell_type": "code",
   "execution_count": 28,
   "metadata": {},
   "outputs": [
    {
     "name": "stdout",
     "output_type": "stream",
     "text": [
      "Savings:\n",
      "f1: 821,243.85\n",
      "f2: 90,118.74\n",
      "f0.5: 3,468,067.11\n",
      "accuracy: 3,007,552.35\n"
     ]
    }
   ],
   "source": [
    "print('Savings:')\n",
    "for k in metrics_thresholds:\n",
    "    diff = max_profit - profits_df.loc[np.abs(profits_df.threshold - metrics_thresholds[k]) < 0.0001, 'profit'].values[0]\n",
    "    print(k, ': ', \"{:,.2f}\".format(diff), sep='')"
   ]
  }
 ],
 "metadata": {
  "kernelspec": {
   "display_name": "Python 3",
   "language": "python",
   "name": "python3"
  },
  "language_info": {
   "codemirror_mode": {
    "name": "ipython",
    "version": 3
   },
   "file_extension": ".py",
   "mimetype": "text/x-python",
   "name": "python",
   "nbconvert_exporter": "python",
   "pygments_lexer": "ipython3",
   "version": "3.6.5"
  }
 },
 "nbformat": 4,
 "nbformat_minor": 2
}
